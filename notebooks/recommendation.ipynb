{
 "cells": [
  {
   "cell_type": "markdown",
   "id": "9499d70e",
   "metadata": {},
   "source": [
    "# Recommending Items Based on User Profiles"
   ]
  },
  {
   "cell_type": "markdown",
   "id": "57b279ca",
   "metadata": {},
   "source": [
    "## Imports"
   ]
  },
  {
   "cell_type": "code",
   "execution_count": 183,
   "id": "24773fed",
   "metadata": {},
   "outputs": [],
   "source": [
    "import pandas as pd\n",
    "import numpy as np\n",
    "from sklearn.metrics.pairwise import cosine_similarity\n",
    "import matplotlib.pyplot as plt"
   ]
  },
  {
   "cell_type": "markdown",
   "id": "72bf9eb8",
   "metadata": {},
   "source": [
    "## Loading Datasets"
   ]
  },
  {
   "cell_type": "code",
   "execution_count": 184,
   "id": "71fc9f9c",
   "metadata": {},
   "outputs": [],
   "source": [
    "item_embeddings_df = pd.read_csv('../data/item_embeddings.csv')\n",
    "user_profiles_df = pd.read_csv('../data/user_profiles.csv')"
   ]
  },
  {
   "cell_type": "code",
   "execution_count": 185,
   "id": "eedc3c13",
   "metadata": {},
   "outputs": [
    {
     "data": {
      "text/plain": [
       "(101, 384)"
      ]
     },
     "execution_count": 185,
     "metadata": {},
     "output_type": "execute_result"
    }
   ],
   "source": [
    "item_embeddings_df.shape"
   ]
  },
  {
   "cell_type": "code",
   "execution_count": 186,
   "id": "34e9a495",
   "metadata": {},
   "outputs": [
    {
     "data": {
      "text/plain": [
       "(48, 383)"
      ]
     },
     "execution_count": 186,
     "metadata": {},
     "output_type": "execute_result"
    }
   ],
   "source": [
    "user_profiles_df.shape"
   ]
  },
  {
   "cell_type": "code",
   "execution_count": 187,
   "id": "8c2d70d8",
   "metadata": {},
   "outputs": [
    {
     "data": {
      "text/html": [
       "<div>\n",
       "<style scoped>\n",
       "    .dataframe tbody tr th:only-of-type {\n",
       "        vertical-align: middle;\n",
       "    }\n",
       "\n",
       "    .dataframe tbody tr th {\n",
       "        vertical-align: top;\n",
       "    }\n",
       "\n",
       "    .dataframe thead th {\n",
       "        text-align: right;\n",
       "    }\n",
       "</style>\n",
       "<table border=\"1\" class=\"dataframe\">\n",
       "  <thead>\n",
       "    <tr style=\"text-align: right;\">\n",
       "      <th></th>\n",
       "      <th>0</th>\n",
       "      <th>1</th>\n",
       "      <th>2</th>\n",
       "      <th>3</th>\n",
       "      <th>4</th>\n",
       "      <th>5</th>\n",
       "      <th>6</th>\n",
       "      <th>7</th>\n",
       "      <th>8</th>\n",
       "      <th>9</th>\n",
       "      <th>...</th>\n",
       "      <th>374</th>\n",
       "      <th>375</th>\n",
       "      <th>376</th>\n",
       "      <th>377</th>\n",
       "      <th>378</th>\n",
       "      <th>379</th>\n",
       "      <th>380</th>\n",
       "      <th>381</th>\n",
       "      <th>382</th>\n",
       "      <th>383</th>\n",
       "    </tr>\n",
       "  </thead>\n",
       "  <tbody>\n",
       "    <tr>\n",
       "      <th>0</th>\n",
       "      <td>-0.074143</td>\n",
       "      <td>0.064050</td>\n",
       "      <td>-0.009264</td>\n",
       "      <td>0.046263</td>\n",
       "      <td>-0.027863</td>\n",
       "      <td>-0.048036</td>\n",
       "      <td>0.064230</td>\n",
       "      <td>-0.072758</td>\n",
       "      <td>-0.083279</td>\n",
       "      <td>-0.023699</td>\n",
       "      <td>...</td>\n",
       "      <td>-0.032186</td>\n",
       "      <td>-0.009203</td>\n",
       "      <td>-0.015632</td>\n",
       "      <td>0.013018</td>\n",
       "      <td>0.038265</td>\n",
       "      <td>0.057547</td>\n",
       "      <td>0.033841</td>\n",
       "      <td>-0.040459</td>\n",
       "      <td>-0.005354</td>\n",
       "      <td>-0.016443</td>\n",
       "    </tr>\n",
       "    <tr>\n",
       "      <th>1</th>\n",
       "      <td>-0.053667</td>\n",
       "      <td>0.086153</td>\n",
       "      <td>0.008184</td>\n",
       "      <td>-0.027359</td>\n",
       "      <td>0.064028</td>\n",
       "      <td>-0.062513</td>\n",
       "      <td>0.064731</td>\n",
       "      <td>0.053492</td>\n",
       "      <td>-0.086663</td>\n",
       "      <td>0.042040</td>\n",
       "      <td>...</td>\n",
       "      <td>-0.039931</td>\n",
       "      <td>-0.055881</td>\n",
       "      <td>0.070485</td>\n",
       "      <td>0.079482</td>\n",
       "      <td>-0.065805</td>\n",
       "      <td>0.010450</td>\n",
       "      <td>0.083477</td>\n",
       "      <td>-0.020643</td>\n",
       "      <td>0.026802</td>\n",
       "      <td>0.023278</td>\n",
       "    </tr>\n",
       "    <tr>\n",
       "      <th>2</th>\n",
       "      <td>-0.103944</td>\n",
       "      <td>0.160174</td>\n",
       "      <td>0.006674</td>\n",
       "      <td>0.032914</td>\n",
       "      <td>0.023432</td>\n",
       "      <td>0.015533</td>\n",
       "      <td>0.124695</td>\n",
       "      <td>-0.012912</td>\n",
       "      <td>-0.071057</td>\n",
       "      <td>0.007715</td>\n",
       "      <td>...</td>\n",
       "      <td>-0.048390</td>\n",
       "      <td>-0.047802</td>\n",
       "      <td>-0.056081</td>\n",
       "      <td>0.034009</td>\n",
       "      <td>0.005964</td>\n",
       "      <td>0.015365</td>\n",
       "      <td>0.026713</td>\n",
       "      <td>-0.099851</td>\n",
       "      <td>-0.039444</td>\n",
       "      <td>0.019750</td>\n",
       "    </tr>\n",
       "    <tr>\n",
       "      <th>3</th>\n",
       "      <td>-0.068707</td>\n",
       "      <td>0.033529</td>\n",
       "      <td>0.007046</td>\n",
       "      <td>0.083010</td>\n",
       "      <td>0.072068</td>\n",
       "      <td>0.020052</td>\n",
       "      <td>0.061295</td>\n",
       "      <td>0.038851</td>\n",
       "      <td>0.006501</td>\n",
       "      <td>0.060401</td>\n",
       "      <td>...</td>\n",
       "      <td>-0.073263</td>\n",
       "      <td>-0.021329</td>\n",
       "      <td>-0.063976</td>\n",
       "      <td>0.042687</td>\n",
       "      <td>0.028866</td>\n",
       "      <td>0.015143</td>\n",
       "      <td>-0.025140</td>\n",
       "      <td>-0.103199</td>\n",
       "      <td>-0.039904</td>\n",
       "      <td>0.047723</td>\n",
       "    </tr>\n",
       "    <tr>\n",
       "      <th>4</th>\n",
       "      <td>-0.069275</td>\n",
       "      <td>0.071025</td>\n",
       "      <td>0.019378</td>\n",
       "      <td>0.039093</td>\n",
       "      <td>0.075728</td>\n",
       "      <td>-0.033218</td>\n",
       "      <td>0.122828</td>\n",
       "      <td>-0.019662</td>\n",
       "      <td>-0.064920</td>\n",
       "      <td>-0.040290</td>\n",
       "      <td>...</td>\n",
       "      <td>-0.048714</td>\n",
       "      <td>-0.067688</td>\n",
       "      <td>-0.049945</td>\n",
       "      <td>-0.005560</td>\n",
       "      <td>-0.028457</td>\n",
       "      <td>0.019639</td>\n",
       "      <td>-0.037464</td>\n",
       "      <td>-0.115767</td>\n",
       "      <td>-0.017989</td>\n",
       "      <td>0.000391</td>\n",
       "    </tr>\n",
       "  </tbody>\n",
       "</table>\n",
       "<p>5 rows × 384 columns</p>\n",
       "</div>"
      ],
      "text/plain": [
       "          0         1         2         3         4         5         6  \\\n",
       "0 -0.074143  0.064050 -0.009264  0.046263 -0.027863 -0.048036  0.064230   \n",
       "1 -0.053667  0.086153  0.008184 -0.027359  0.064028 -0.062513  0.064731   \n",
       "2 -0.103944  0.160174  0.006674  0.032914  0.023432  0.015533  0.124695   \n",
       "3 -0.068707  0.033529  0.007046  0.083010  0.072068  0.020052  0.061295   \n",
       "4 -0.069275  0.071025  0.019378  0.039093  0.075728 -0.033218  0.122828   \n",
       "\n",
       "          7         8         9  ...       374       375       376       377  \\\n",
       "0 -0.072758 -0.083279 -0.023699  ... -0.032186 -0.009203 -0.015632  0.013018   \n",
       "1  0.053492 -0.086663  0.042040  ... -0.039931 -0.055881  0.070485  0.079482   \n",
       "2 -0.012912 -0.071057  0.007715  ... -0.048390 -0.047802 -0.056081  0.034009   \n",
       "3  0.038851  0.006501  0.060401  ... -0.073263 -0.021329 -0.063976  0.042687   \n",
       "4 -0.019662 -0.064920 -0.040290  ... -0.048714 -0.067688 -0.049945 -0.005560   \n",
       "\n",
       "        378       379       380       381       382       383  \n",
       "0  0.038265  0.057547  0.033841 -0.040459 -0.005354 -0.016443  \n",
       "1 -0.065805  0.010450  0.083477 -0.020643  0.026802  0.023278  \n",
       "2  0.005964  0.015365  0.026713 -0.099851 -0.039444  0.019750  \n",
       "3  0.028866  0.015143 -0.025140 -0.103199 -0.039904  0.047723  \n",
       "4 -0.028457  0.019639 -0.037464 -0.115767 -0.017989  0.000391  \n",
       "\n",
       "[5 rows x 384 columns]"
      ]
     },
     "execution_count": 187,
     "metadata": {},
     "output_type": "execute_result"
    }
   ],
   "source": [
    "item_embeddings_df.head()"
   ]
  },
  {
   "cell_type": "code",
   "execution_count": 188,
   "id": "3821086e",
   "metadata": {},
   "outputs": [
    {
     "data": {
      "text/html": [
       "<div>\n",
       "<style scoped>\n",
       "    .dataframe tbody tr th:only-of-type {\n",
       "        vertical-align: middle;\n",
       "    }\n",
       "\n",
       "    .dataframe tbody tr th {\n",
       "        vertical-align: top;\n",
       "    }\n",
       "\n",
       "    .dataframe thead th {\n",
       "        text-align: right;\n",
       "    }\n",
       "</style>\n",
       "<table border=\"1\" class=\"dataframe\">\n",
       "  <thead>\n",
       "    <tr style=\"text-align: right;\">\n",
       "      <th></th>\n",
       "      <th>0</th>\n",
       "      <th>1</th>\n",
       "      <th>2</th>\n",
       "      <th>3</th>\n",
       "      <th>4</th>\n",
       "      <th>5</th>\n",
       "      <th>6</th>\n",
       "      <th>7</th>\n",
       "      <th>8</th>\n",
       "      <th>9</th>\n",
       "      <th>...</th>\n",
       "      <th>373</th>\n",
       "      <th>374</th>\n",
       "      <th>375</th>\n",
       "      <th>376</th>\n",
       "      <th>377</th>\n",
       "      <th>378</th>\n",
       "      <th>379</th>\n",
       "      <th>380</th>\n",
       "      <th>381</th>\n",
       "      <th>382</th>\n",
       "    </tr>\n",
       "  </thead>\n",
       "  <tbody>\n",
       "    <tr>\n",
       "      <th>0</th>\n",
       "      <td>0.060143</td>\n",
       "      <td>0.036061</td>\n",
       "      <td>0.048108</td>\n",
       "      <td>0.008844</td>\n",
       "      <td>-0.007575</td>\n",
       "      <td>0.065450</td>\n",
       "      <td>-0.048654</td>\n",
       "      <td>-0.067773</td>\n",
       "      <td>0.014274</td>\n",
       "      <td>0.024337</td>\n",
       "      <td>...</td>\n",
       "      <td>-0.054870</td>\n",
       "      <td>-0.012844</td>\n",
       "      <td>-0.018181</td>\n",
       "      <td>0.041335</td>\n",
       "      <td>0.007615</td>\n",
       "      <td>0.011697</td>\n",
       "      <td>-0.027718</td>\n",
       "      <td>-0.063241</td>\n",
       "      <td>0.007207</td>\n",
       "      <td>-0.003882</td>\n",
       "    </tr>\n",
       "    <tr>\n",
       "      <th>1</th>\n",
       "      <td>0.038324</td>\n",
       "      <td>0.021305</td>\n",
       "      <td>-0.009668</td>\n",
       "      <td>0.062717</td>\n",
       "      <td>-0.027837</td>\n",
       "      <td>0.082639</td>\n",
       "      <td>0.013449</td>\n",
       "      <td>-0.052762</td>\n",
       "      <td>-0.003109</td>\n",
       "      <td>0.028908</td>\n",
       "      <td>...</td>\n",
       "      <td>0.002024</td>\n",
       "      <td>-0.060947</td>\n",
       "      <td>-0.035074</td>\n",
       "      <td>0.033858</td>\n",
       "      <td>0.003707</td>\n",
       "      <td>-0.009584</td>\n",
       "      <td>0.002526</td>\n",
       "      <td>-0.081802</td>\n",
       "      <td>-0.057961</td>\n",
       "      <td>-0.013604</td>\n",
       "    </tr>\n",
       "    <tr>\n",
       "      <th>2</th>\n",
       "      <td>0.063626</td>\n",
       "      <td>-0.022125</td>\n",
       "      <td>0.018907</td>\n",
       "      <td>0.037874</td>\n",
       "      <td>-0.007774</td>\n",
       "      <td>0.043303</td>\n",
       "      <td>0.007892</td>\n",
       "      <td>-0.044934</td>\n",
       "      <td>0.031136</td>\n",
       "      <td>0.045607</td>\n",
       "      <td>...</td>\n",
       "      <td>-0.054719</td>\n",
       "      <td>-0.027572</td>\n",
       "      <td>0.020879</td>\n",
       "      <td>0.054398</td>\n",
       "      <td>-0.066077</td>\n",
       "      <td>0.013572</td>\n",
       "      <td>0.070344</td>\n",
       "      <td>-0.072806</td>\n",
       "      <td>-0.012058</td>\n",
       "      <td>0.038050</td>\n",
       "    </tr>\n",
       "    <tr>\n",
       "      <th>3</th>\n",
       "      <td>0.078631</td>\n",
       "      <td>0.007365</td>\n",
       "      <td>0.026449</td>\n",
       "      <td>0.023867</td>\n",
       "      <td>0.000867</td>\n",
       "      <td>0.078875</td>\n",
       "      <td>0.040846</td>\n",
       "      <td>-0.059256</td>\n",
       "      <td>0.005375</td>\n",
       "      <td>-0.013123</td>\n",
       "      <td>...</td>\n",
       "      <td>-0.027190</td>\n",
       "      <td>-0.045285</td>\n",
       "      <td>-0.011149</td>\n",
       "      <td>0.047736</td>\n",
       "      <td>0.016887</td>\n",
       "      <td>0.021995</td>\n",
       "      <td>0.036113</td>\n",
       "      <td>-0.101998</td>\n",
       "      <td>-0.036493</td>\n",
       "      <td>0.005175</td>\n",
       "    </tr>\n",
       "    <tr>\n",
       "      <th>4</th>\n",
       "      <td>0.116301</td>\n",
       "      <td>0.017553</td>\n",
       "      <td>0.029933</td>\n",
       "      <td>0.044769</td>\n",
       "      <td>-0.029575</td>\n",
       "      <td>0.086199</td>\n",
       "      <td>-0.018630</td>\n",
       "      <td>-0.054320</td>\n",
       "      <td>0.015293</td>\n",
       "      <td>-0.012321</td>\n",
       "      <td>...</td>\n",
       "      <td>-0.020133</td>\n",
       "      <td>-0.030688</td>\n",
       "      <td>-0.024696</td>\n",
       "      <td>0.026634</td>\n",
       "      <td>0.004515</td>\n",
       "      <td>0.004056</td>\n",
       "      <td>-0.016762</td>\n",
       "      <td>-0.056608</td>\n",
       "      <td>-0.036605</td>\n",
       "      <td>-0.030182</td>\n",
       "    </tr>\n",
       "  </tbody>\n",
       "</table>\n",
       "<p>5 rows × 383 columns</p>\n",
       "</div>"
      ],
      "text/plain": [
       "          0         1         2         3         4         5         6  \\\n",
       "0  0.060143  0.036061  0.048108  0.008844 -0.007575  0.065450 -0.048654   \n",
       "1  0.038324  0.021305 -0.009668  0.062717 -0.027837  0.082639  0.013449   \n",
       "2  0.063626 -0.022125  0.018907  0.037874 -0.007774  0.043303  0.007892   \n",
       "3  0.078631  0.007365  0.026449  0.023867  0.000867  0.078875  0.040846   \n",
       "4  0.116301  0.017553  0.029933  0.044769 -0.029575  0.086199 -0.018630   \n",
       "\n",
       "          7         8         9  ...       373       374       375       376  \\\n",
       "0 -0.067773  0.014274  0.024337  ... -0.054870 -0.012844 -0.018181  0.041335   \n",
       "1 -0.052762 -0.003109  0.028908  ...  0.002024 -0.060947 -0.035074  0.033858   \n",
       "2 -0.044934  0.031136  0.045607  ... -0.054719 -0.027572  0.020879  0.054398   \n",
       "3 -0.059256  0.005375 -0.013123  ... -0.027190 -0.045285 -0.011149  0.047736   \n",
       "4 -0.054320  0.015293 -0.012321  ... -0.020133 -0.030688 -0.024696  0.026634   \n",
       "\n",
       "        377       378       379       380       381       382  \n",
       "0  0.007615  0.011697 -0.027718 -0.063241  0.007207 -0.003882  \n",
       "1  0.003707 -0.009584  0.002526 -0.081802 -0.057961 -0.013604  \n",
       "2 -0.066077  0.013572  0.070344 -0.072806 -0.012058  0.038050  \n",
       "3  0.016887  0.021995  0.036113 -0.101998 -0.036493  0.005175  \n",
       "4  0.004515  0.004056 -0.016762 -0.056608 -0.036605 -0.030182  \n",
       "\n",
       "[5 rows x 383 columns]"
      ]
     },
     "execution_count": 188,
     "metadata": {},
     "output_type": "execute_result"
    }
   ],
   "source": [
    "user_profiles_df.head()"
   ]
  },
  {
   "cell_type": "code",
   "execution_count": 189,
   "id": "e5651307",
   "metadata": {},
   "outputs": [
    {
     "data": {
      "text/html": [
       "<div>\n",
       "<style scoped>\n",
       "    .dataframe tbody tr th:only-of-type {\n",
       "        vertical-align: middle;\n",
       "    }\n",
       "\n",
       "    .dataframe tbody tr th {\n",
       "        vertical-align: top;\n",
       "    }\n",
       "\n",
       "    .dataframe thead th {\n",
       "        text-align: right;\n",
       "    }\n",
       "</style>\n",
       "<table border=\"1\" class=\"dataframe\">\n",
       "  <thead>\n",
       "    <tr style=\"text-align: right;\">\n",
       "      <th></th>\n",
       "      <th>user_id</th>\n",
       "      <th>item_id</th>\n",
       "      <th>liked</th>\n",
       "    </tr>\n",
       "  </thead>\n",
       "  <tbody>\n",
       "    <tr>\n",
       "      <th>0</th>\n",
       "      <td>0</td>\n",
       "      <td>0</td>\n",
       "      <td>1</td>\n",
       "    </tr>\n",
       "    <tr>\n",
       "      <th>1</th>\n",
       "      <td>0</td>\n",
       "      <td>8</td>\n",
       "      <td>1</td>\n",
       "    </tr>\n",
       "    <tr>\n",
       "      <th>2</th>\n",
       "      <td>0</td>\n",
       "      <td>15</td>\n",
       "      <td>1</td>\n",
       "    </tr>\n",
       "    <tr>\n",
       "      <th>3</th>\n",
       "      <td>0</td>\n",
       "      <td>18</td>\n",
       "      <td>1</td>\n",
       "    </tr>\n",
       "    <tr>\n",
       "      <th>4</th>\n",
       "      <td>0</td>\n",
       "      <td>36</td>\n",
       "      <td>1</td>\n",
       "    </tr>\n",
       "  </tbody>\n",
       "</table>\n",
       "</div>"
      ],
      "text/plain": [
       "   user_id  item_id  liked\n",
       "0        0        0      1\n",
       "1        0        8      1\n",
       "2        0       15      1\n",
       "3        0       18      1\n",
       "4        0       36      1"
      ]
     },
     "execution_count": 189,
     "metadata": {},
     "output_type": "execute_result"
    }
   ],
   "source": [
    "interactions = pd.read_csv('../data/fashion_interactions.csv')\n",
    "interactions.head()"
   ]
  },
  {
   "cell_type": "code",
   "execution_count": 190,
   "id": "a0c93153",
   "metadata": {},
   "outputs": [
    {
     "data": {
      "text/html": [
       "<div>\n",
       "<style scoped>\n",
       "    .dataframe tbody tr th:only-of-type {\n",
       "        vertical-align: middle;\n",
       "    }\n",
       "\n",
       "    .dataframe tbody tr th {\n",
       "        vertical-align: top;\n",
       "    }\n",
       "\n",
       "    .dataframe thead th {\n",
       "        text-align: right;\n",
       "    }\n",
       "</style>\n",
       "<table border=\"1\" class=\"dataframe\">\n",
       "  <thead>\n",
       "    <tr style=\"text-align: right;\">\n",
       "      <th></th>\n",
       "      <th>user_id</th>\n",
       "      <th>interests</th>\n",
       "    </tr>\n",
       "  </thead>\n",
       "  <tbody>\n",
       "    <tr>\n",
       "      <th>0</th>\n",
       "      <td>0</td>\n",
       "      <td>['boho', 'summer', 'feminine']</td>\n",
       "    </tr>\n",
       "    <tr>\n",
       "      <th>1</th>\n",
       "      <td>1</td>\n",
       "      <td>['streetwear', 'sneakers', 'urban']</td>\n",
       "    </tr>\n",
       "    <tr>\n",
       "      <th>2</th>\n",
       "      <td>2</td>\n",
       "      <td>['minimalist', 'neutrals', 'sustainable']</td>\n",
       "    </tr>\n",
       "    <tr>\n",
       "      <th>3</th>\n",
       "      <td>3</td>\n",
       "      <td>['vintage', 'fall', 'denim']</td>\n",
       "    </tr>\n",
       "    <tr>\n",
       "      <th>4</th>\n",
       "      <td>4</td>\n",
       "      <td>['formal', 'classic', 'blazer']</td>\n",
       "    </tr>\n",
       "  </tbody>\n",
       "</table>\n",
       "</div>"
      ],
      "text/plain": [
       "   user_id                                  interests\n",
       "0        0             ['boho', 'summer', 'feminine']\n",
       "1        1        ['streetwear', 'sneakers', 'urban']\n",
       "2        2  ['minimalist', 'neutrals', 'sustainable']\n",
       "3        3               ['vintage', 'fall', 'denim']\n",
       "4        4            ['formal', 'classic', 'blazer']"
      ]
     },
     "execution_count": 190,
     "metadata": {},
     "output_type": "execute_result"
    }
   ],
   "source": [
    "users = pd.read_csv('../data/fashion_users.csv')\n",
    "users.head()"
   ]
  },
  {
   "cell_type": "code",
   "execution_count": 191,
   "id": "fba7915a",
   "metadata": {},
   "outputs": [
    {
     "data": {
      "text/html": [
       "<div>\n",
       "<style scoped>\n",
       "    .dataframe tbody tr th:only-of-type {\n",
       "        vertical-align: middle;\n",
       "    }\n",
       "\n",
       "    .dataframe tbody tr th {\n",
       "        vertical-align: top;\n",
       "    }\n",
       "\n",
       "    .dataframe thead th {\n",
       "        text-align: right;\n",
       "    }\n",
       "</style>\n",
       "<table border=\"1\" class=\"dataframe\">\n",
       "  <thead>\n",
       "    <tr style=\"text-align: right;\">\n",
       "      <th></th>\n",
       "      <th>item_id</th>\n",
       "      <th>title</th>\n",
       "      <th>tags</th>\n",
       "      <th>category</th>\n",
       "    </tr>\n",
       "  </thead>\n",
       "  <tbody>\n",
       "    <tr>\n",
       "      <th>0</th>\n",
       "      <td>0</td>\n",
       "      <td>Boho Summer Maxi Dress</td>\n",
       "      <td>['boho', 'dress', 'summer']</td>\n",
       "      <td>dresses</td>\n",
       "    </tr>\n",
       "    <tr>\n",
       "      <th>1</th>\n",
       "      <td>1</td>\n",
       "      <td>Minimalist Linen Blouse</td>\n",
       "      <td>['minimalist', 'blouse', 'neutrals']</td>\n",
       "      <td>tops</td>\n",
       "    </tr>\n",
       "    <tr>\n",
       "      <th>2</th>\n",
       "      <td>2</td>\n",
       "      <td>Vintage Denim Jacket</td>\n",
       "      <td>['vintage', 'jacket', 'denim']</td>\n",
       "      <td>outerwear</td>\n",
       "    </tr>\n",
       "    <tr>\n",
       "      <th>3</th>\n",
       "      <td>3</td>\n",
       "      <td>Cozy Knit Sweater</td>\n",
       "      <td>['cozy', 'sweater', 'fall']</td>\n",
       "      <td>tops</td>\n",
       "    </tr>\n",
       "    <tr>\n",
       "      <th>4</th>\n",
       "      <td>4</td>\n",
       "      <td>Streetwear Graphic Hoodie</td>\n",
       "      <td>['streetwear', 'hoodie', 'urban']</td>\n",
       "      <td>outerwear</td>\n",
       "    </tr>\n",
       "  </tbody>\n",
       "</table>\n",
       "</div>"
      ],
      "text/plain": [
       "   item_id                      title                                  tags  \\\n",
       "0        0     Boho Summer Maxi Dress           ['boho', 'dress', 'summer']   \n",
       "1        1    Minimalist Linen Blouse  ['minimalist', 'blouse', 'neutrals']   \n",
       "2        2       Vintage Denim Jacket        ['vintage', 'jacket', 'denim']   \n",
       "3        3          Cozy Knit Sweater           ['cozy', 'sweater', 'fall']   \n",
       "4        4  Streetwear Graphic Hoodie     ['streetwear', 'hoodie', 'urban']   \n",
       "\n",
       "    category  \n",
       "0    dresses  \n",
       "1       tops  \n",
       "2  outerwear  \n",
       "3       tops  \n",
       "4  outerwear  "
      ]
     },
     "execution_count": 191,
     "metadata": {},
     "output_type": "execute_result"
    }
   ],
   "source": [
    "items = pd.read_csv('../data/fashion_items.csv')\n",
    "items.head()"
   ]
  },
  {
   "cell_type": "markdown",
   "id": "0061787b",
   "metadata": {},
   "source": [
    "## Recommendation by Profile Similarity"
   ]
  },
  {
   "cell_type": "code",
   "execution_count": 194,
   "id": "b12d3e3e",
   "metadata": {},
   "outputs": [],
   "source": [
    "def recommend_items(user_id, top_n=5):\n",
    "    \"\"\"\n",
    "    Recommend items based on user profile similarity.\n",
    "    \n",
    "    Parameters:\n",
    "    - user_id: ID of the user for whom to recommend items.\n",
    "    - top_n: Number of top recommendations to return.\n",
    "    \n",
    "    Returns:\n",
    "    - DataFrame of recommended items.\n",
    "    \"\"\"\n",
    "    user_profile = user_profiles_df.loc[user_id]\n",
    "    item_embeddings = item_embeddings_df.iloc[:, 1:].values\n",
    "\n",
    "    print(user_profile.shape)\n",
    "    print(item_embeddings.shape)\n",
    "    \n",
    "    # Calculate cosine similarity between user profile and item embeddings\n",
    "    user_profile = user_profile.values.reshape(1, -1)  # Reshape to 2D array for cosine similarity\n",
    "    similarities = cosine_similarity(user_profile, item_embeddings).flatten()\n",
    "\n",
    "    # Remove the user's saved items from recommendations\n",
    "    # Get saved items based on interactions data\n",
    "    # This gives a list of indices of saved items\n",
    "    saved_items = interactions[interactions['user_id'] == user_id]['item_id'].values\n",
    "    # Remove saved items from the similarity scores\n",
    "#    similarities[saved_items] = -np.inf  # Set saved items' similarity to -inf to exclude them\n",
    "\n",
    "    # Get indices of top N similar items\n",
    "    top_indices = np.argsort(similarities)[-top_n:][::-1]\n",
    "    \n",
    "    # Return recommended items from the actual fashion_items dataframe\n",
    "    return items.iloc[top_indices]"
   ]
  },
  {
   "cell_type": "markdown",
   "id": "4183362b",
   "metadata": {},
   "source": [
    "Let's test this function on a sample user!"
   ]
  },
  {
   "cell_type": "code",
   "execution_count": 195,
   "id": "62da3d3f",
   "metadata": {},
   "outputs": [
    {
     "name": "stdout",
     "output_type": "stream",
     "text": [
      "User Profile for User ID: 0\n",
      "user_id                                   0\n",
      "interests    ['boho', 'summer', 'feminine']\n",
      "Name: 0, dtype: object\n",
      "Saved Items for User ID: 0\n",
      "   item_id                      title                                   tags  \\\n",
      "0        0     Boho Summer Maxi Dress            ['boho', 'dress', 'summer']   \n",
      "1        1    Minimalist Linen Blouse   ['minimalist', 'blouse', 'neutrals']   \n",
      "2        2       Vintage Denim Jacket         ['vintage', 'jacket', 'denim']   \n",
      "3        3          Cozy Knit Sweater            ['cozy', 'sweater', 'fall']   \n",
      "4        4  Streetwear Graphic Hoodie      ['streetwear', 'hoodie', 'urban']   \n",
      "5        5       Sustainable Yoga Set  ['sustainable', 'athleisure', 'yoga']   \n",
      "\n",
      "     category  \n",
      "0     dresses  \n",
      "1        tops  \n",
      "2   outerwear  \n",
      "3        tops  \n",
      "4   outerwear  \n",
      "5  activewear  \n",
      "(383,)\n",
      "(101, 383)\n",
      "Recommended Items for User ID: 0\n",
      "    item_id                    title  \\\n",
      "36       36  Floral Print Wrap Dress   \n",
      "83       83  Elegant Silk Wrap Dress   \n",
      "15       15  Floral Print Maxi Skirt   \n",
      "0         0   Boho Summer Maxi Dress   \n",
      "8         8        Ruffle Mini Skirt   \n",
      "\n",
      "                                        tags category  \n",
      "36        ['floral', 'wrap dress', 'summer']  dresses  \n",
      "83  ['elegant', 'silk wrap dress', 'summer']  dresses  \n",
      "15              ['floral', 'maxi', 'summer']  bottoms  \n",
      "0                ['boho', 'dress', 'summer']  dresses  \n",
      "8            ['feminine', 'skirt', 'summer']  bottoms  \n"
     ]
    },
    {
     "name": "stderr",
     "output_type": "stream",
     "text": [
      "/var/folders/qt/4yhgm0j53w96n6z_j5zct2k40000gn/T/ipykernel_85686/1439263195.py:7: UserWarning: Boolean Series key will be reindexed to match DataFrame index.\n",
      "  print(items[interactions['user_id'] == user])\n"
     ]
    }
   ],
   "source": [
    "user = 0  # Example user ID\n",
    "# Print user profile for reference\n",
    "print(\"User Profile for User ID:\", user)\n",
    "print(users.loc[user])\n",
    "# print the users saved items\n",
    "print(\"Saved Items for User ID:\", user)\n",
    "print(items[interactions['user_id'] == user])\n",
    "# And print the recommendations\n",
    "recommended_items = recommend_items(user)\n",
    "print(\"Recommended Items for User ID:\", user)\n",
    "print(recommended_items)"
   ]
  },
  {
   "cell_type": "markdown",
   "id": "9f03d7c1",
   "metadata": {},
   "source": [
    "Great, we recovered one of the original items the user saved! (Uncomment the line in the function above if recommending unseen items)."
   ]
  },
  {
   "cell_type": "code",
   "execution_count": 233,
   "id": "d17e2f87",
   "metadata": {},
   "outputs": [
    {
     "name": "stdout",
     "output_type": "stream",
     "text": [
      "User Profile for User ID: 4\n",
      "user_id                                    4\n",
      "interests    ['formal', 'classic', 'blazer']\n",
      "Name: 4, dtype: object\n",
      "Saved Items for User ID: 4\n",
      "    item_id                         title  \\\n",
      "6         6          Classic Black Blazer   \n",
      "10       10          Elegant Evening Gown   \n",
      "19       19        Classic White Sneakers   \n",
      "42       42          Tailored Suit Jacket   \n",
      "53       53          Tailored Dress Pants   \n",
      "66       66  Tailored Blazer with Pockets   \n",
      "\n",
      "                                     tags   category  \n",
      "6         ['classic', 'blazer', 'formal']  outerwear  \n",
      "10          ['elegant', 'gown', 'formal']    dresses  \n",
      "19      ['classic', 'sneakers', 'casual']   footwear  \n",
      "42  ['tailored', 'suit jacket', 'formal']  outerwear  \n",
      "53  ['tailored', 'dress pants', 'formal']    bottoms  \n",
      "66      ['tailored', 'blazer', 'pockets']  outerwear  \n",
      "(383,)\n",
      "(101, 383)\n",
      "Recommended Items for User ID: 4\n",
      "    item_id                         title  \\\n",
      "53       53          Tailored Dress Pants   \n",
      "70       70           Tailored Suit Pants   \n",
      "42       42          Tailored Suit Jacket   \n",
      "66       66  Tailored Blazer with Pockets   \n",
      "6         6          Classic Black Blazer   \n",
      "\n",
      "                                     tags   category  \n",
      "53  ['tailored', 'dress pants', 'formal']    bottoms  \n",
      "70   ['tailored', 'suit pants', 'formal']    bottoms  \n",
      "42  ['tailored', 'suit jacket', 'formal']  outerwear  \n",
      "66      ['tailored', 'blazer', 'pockets']  outerwear  \n",
      "6         ['classic', 'blazer', 'formal']  outerwear  \n"
     ]
    }
   ],
   "source": [
    "import random\n",
    "user = random.choice(users['user_id'].values)  # Randomly select a user ID\n",
    "# Print user profile for reference\n",
    "print(\"User Profile for User ID:\", user)\n",
    "print(users.loc[user])\n",
    "# print the users saved items\n",
    "liked_ids = interactions[interactions['user_id'] == user][\"item_id\"].values\n",
    "print(\"Saved Items for User ID:\", user)\n",
    "print(items.loc[items['item_id'].isin(liked_ids)])\n",
    "# And print the recommendations\n",
    "recommended_items = recommend_items(user)\n",
    "print(\"Recommended Items for User ID:\", user)\n",
    "print(recommended_items)"
   ]
  },
  {
   "cell_type": "markdown",
   "id": "57fecee3",
   "metadata": {},
   "source": [
    "While we didn't recover any of the original pins in this example, I would argue that the recommendations actually fit the user's profile better than the saved items. It might be interesting in future to explore creating recommendations with the profile and current pins in case tastes changed after creating a profile. Let's try one more!"
   ]
  },
  {
   "cell_type": "code",
   "execution_count": 161,
   "id": "4298e158",
   "metadata": {},
   "outputs": [
    {
     "name": "stdout",
     "output_type": "stream",
     "text": [
      "User Profile for User ID: 15\n",
      "user_id                               15\n",
      "interests    ['woven', 'tote', 'summer']\n",
      "Name: 15, dtype: object\n",
      "Saved Items for User ID: 15\n",
      "    item_id                                           title  \\\n",
      "76       76              Casual Denim Overalls with Pockets   \n",
      "77       77                Tailored Wool Blazer with Lining   \n",
      "78       78      Sporty Athletic Skirt with Built-in Shorts   \n",
      "79       79  Vintage-Inspired Leather Backpack with Buckles   \n",
      "80       80              Casual Graphic T-Shirt with Slogan   \n",
      "81       81           Retro Glasses with Pink Tinted Lenses   \n",
      "\n",
      "                                               tags     category  \n",
      "76          ['casual', 'denim overalls', 'pockets']      bottoms  \n",
      "77            ['tailored', 'wool blazer', 'lining']    outerwear  \n",
      "78  ['sporty', 'athletic skirt', 'built-in shorts']      bottoms  \n",
      "79       ['vintage', 'leather backpack', 'buckles']  accessories  \n",
      "80          ['casual', 'graphic t-shirt', 'slogan']         tops  \n",
      "81              ['retro', 'glasses', 'pink tinted']      eyewear  \n",
      "Recommended Items for User ID: 15\n",
      "    item_id                                 title  \\\n",
      "74       74       Elegant Lace Dress with Sleeves   \n",
      "68       68  Elegant Silk Scarf with Floral Print   \n",
      "10       10                  Elegant Evening Gown   \n",
      "88       88          Casual Striped T-Shirt Dress   \n",
      "26       26                    Elegant Silk Scarf   \n",
      "\n",
      "                                      tags     category  \n",
      "74    ['elegant', 'lace dress', 'sleeves']      dresses  \n",
      "68     ['elegant', 'silk scarf', 'floral']  accessories  \n",
      "10           ['elegant', 'gown', 'formal']      dresses  \n",
      "88  ['casual', 'striped', 't-shirt dress']      dresses  \n",
      "26            ['elegant', 'silk', 'scarf']  accessories  \n"
     ]
    },
    {
     "name": "stderr",
     "output_type": "stream",
     "text": [
      "/var/folders/qt/4yhgm0j53w96n6z_j5zct2k40000gn/T/ipykernel_85686/2984473264.py:7: UserWarning: Boolean Series key will be reindexed to match DataFrame index.\n",
      "  print(items[interactions['user_id'] == user])\n"
     ]
    }
   ],
   "source": [
    "user = random.choice(users['user_id'].values)  # Randomly select a user ID\n",
    "# Print user profile for reference\n",
    "print(\"User Profile for User ID:\", user)\n",
    "print(users.loc[user])\n",
    "# print the users saved items\n",
    "print(\"Saved Items for User ID:\", user)\n",
    "print(items[interactions['user_id'] == user])\n",
    "# And print the recommendations\n",
    "recommended_items = recommend_items(user)\n",
    "print(\"Recommended Items for User ID:\", user)\n",
    "print(recommended_items)"
   ]
  },
  {
   "cell_type": "markdown",
   "id": "d2879167",
   "metadata": {},
   "source": [
    "In this case, the recommendations really leaned into the summer aspect of the user's interests. This might make sense in context of the tag breakdown though, because neither woven nor tote were in the top 20 tags from our EDA."
   ]
  },
  {
   "cell_type": "markdown",
   "id": "9ff2bbb7",
   "metadata": {},
   "source": [
    "## Collaborative Filtering"
   ]
  },
  {
   "cell_type": "markdown",
   "id": "15cb438e",
   "metadata": {},
   "source": [
    "While content filtering is useful for the cold-start problem, it doesn't take into account adaptive preferences as users pin more images. Collaborative filtering looks at the users interactions and compares them with other users to get recommendations."
   ]
  },
  {
   "cell_type": "code",
   "execution_count": 163,
   "id": "828d1125",
   "metadata": {},
   "outputs": [
    {
     "data": {
      "text/html": [
       "<div>\n",
       "<style scoped>\n",
       "    .dataframe tbody tr th:only-of-type {\n",
       "        vertical-align: middle;\n",
       "    }\n",
       "\n",
       "    .dataframe tbody tr th {\n",
       "        vertical-align: top;\n",
       "    }\n",
       "\n",
       "    .dataframe thead th {\n",
       "        text-align: right;\n",
       "    }\n",
       "</style>\n",
       "<table border=\"1\" class=\"dataframe\">\n",
       "  <thead>\n",
       "    <tr style=\"text-align: right;\">\n",
       "      <th></th>\n",
       "      <th>user_id</th>\n",
       "      <th>item_id</th>\n",
       "      <th>liked</th>\n",
       "    </tr>\n",
       "  </thead>\n",
       "  <tbody>\n",
       "    <tr>\n",
       "      <th>0</th>\n",
       "      <td>0</td>\n",
       "      <td>0</td>\n",
       "      <td>1</td>\n",
       "    </tr>\n",
       "    <tr>\n",
       "      <th>1</th>\n",
       "      <td>0</td>\n",
       "      <td>8</td>\n",
       "      <td>1</td>\n",
       "    </tr>\n",
       "    <tr>\n",
       "      <th>2</th>\n",
       "      <td>0</td>\n",
       "      <td>15</td>\n",
       "      <td>1</td>\n",
       "    </tr>\n",
       "    <tr>\n",
       "      <th>3</th>\n",
       "      <td>0</td>\n",
       "      <td>18</td>\n",
       "      <td>1</td>\n",
       "    </tr>\n",
       "    <tr>\n",
       "      <th>4</th>\n",
       "      <td>0</td>\n",
       "      <td>36</td>\n",
       "      <td>1</td>\n",
       "    </tr>\n",
       "  </tbody>\n",
       "</table>\n",
       "</div>"
      ],
      "text/plain": [
       "   user_id  item_id  liked\n",
       "0        0        0      1\n",
       "1        0        8      1\n",
       "2        0       15      1\n",
       "3        0       18      1\n",
       "4        0       36      1"
      ]
     },
     "execution_count": 163,
     "metadata": {},
     "output_type": "execute_result"
    }
   ],
   "source": [
    "interactions.head()"
   ]
  },
  {
   "cell_type": "code",
   "execution_count": 164,
   "id": "ebb7e48c",
   "metadata": {},
   "outputs": [
    {
     "data": {
      "text/plain": [
       "(51, 101)"
      ]
     },
     "execution_count": 164,
     "metadata": {},
     "output_type": "execute_result"
    }
   ],
   "source": [
    "# We have interactions dataframe with columns: user_id, item_id, and liked (1 if liked, 0 otherwise)\n",
    "# We want to create a user-item interaction matrix for our recommendation model\n",
    "\n",
    "# I think we can use the interactions dataframe to indicate 1's in the user-item matrix,\n",
    "# but we need to use the items and users dataframes to ensure we have all users and items represented\n",
    "# giving 0's to items that a user hasn't interacted with\n",
    "\n",
    "user_item_matrix = [[0]*len(items) for _ in range(len(users))] # Initialize a 2D list with zeros\n",
    "for _, row in interactions.iterrows():\n",
    "    user_id = row['user_id']\n",
    "    item_id = row['item_id']\n",
    "    liked = row['liked']\n",
    "    user_item_matrix[user_id][item_id] = liked # Set to 1 if liked, 0 otherwise\n",
    "\n",
    "user_item_matrix = csr_matrix(user_item_matrix) # Convert to sparse matrix\n",
    "user_item_matrix.shape # Should be (num_users, num_items)"
   ]
  },
  {
   "cell_type": "code",
   "execution_count": 165,
   "id": "1b5b7497",
   "metadata": {},
   "outputs": [
    {
     "data": {
      "text/plain": [
       "<Compressed Sparse Row sparse matrix of dtype 'int64'\n",
       "\twith 248 stored elements and shape (51, 101)>"
      ]
     },
     "execution_count": 165,
     "metadata": {},
     "output_type": "execute_result"
    }
   ],
   "source": [
    "user_item_matrix"
   ]
  },
  {
   "cell_type": "code",
   "execution_count": 166,
   "id": "d7511b15",
   "metadata": {},
   "outputs": [
    {
     "data": {
      "text/plain": [
       "<Compressed Sparse Row sparse matrix of dtype 'int64'\n",
       "\twith 6 stored elements and shape (1, 101)>"
      ]
     },
     "execution_count": 166,
     "metadata": {},
     "output_type": "execute_result"
    }
   ],
   "source": [
    "user_item_matrix[3]"
   ]
  },
  {
   "cell_type": "code",
   "execution_count": 167,
   "id": "5a91205b",
   "metadata": {},
   "outputs": [
    {
     "name": "stdout",
     "output_type": "stream",
     "text": [
      "Training ALS model...\n"
     ]
    },
    {
     "name": "stderr",
     "output_type": "stream",
     "text": [
      "100%|██████████| 20/20 [00:00<00:00, 2573.98it/s]"
     ]
    },
    {
     "name": "stdout",
     "output_type": "stream",
     "text": [
      "\n",
      "Recommendations for user 9:\n",
      "  Item ID: 8, Score: 0.1975\n",
      "  Item ID: 11, Score: 0.0440\n",
      "  Item ID: 27, Score: 0.0195\n",
      "  Item ID: 20, Score: 0.0190\n",
      "  Item ID: 17, Score: 0.0179\n"
     ]
    },
    {
     "name": "stderr",
     "output_type": "stream",
     "text": [
      "\n"
     ]
    }
   ],
   "source": [
    "import numpy as np\n",
    "from scipy.sparse import csr_matrix\n",
    "import implicit\n",
    "\n",
    "# Initialize and train the model\n",
    "model = implicit.als.AlternatingLeastSquares(factors=50, regularization=0.01, alpha=40, iterations=20)\n",
    "# factors: Number of latent factors (embedding dimension)\n",
    "# regularization: L2 regularization to prevent overfitting\n",
    "# alpha: A weight for observed interactions (higher alpha means observed interactions have more confidence)\n",
    "# iterations: Number of ALS iterations\n",
    "\n",
    "print(\"Training ALS model...\")\n",
    "model.fit(user_item_matrix) # Fit on the user-item matrix\n",
    "\n",
    "# 3. Make recommendations\n",
    "user_id_to_recommend_for = 9\n",
    "n_recommendations = 5\n",
    "\n",
    "# Get recommendations for a specific user\n",
    "# filter_already_liked_items=True ensures you don't recommend items the user already interacted with\n",
    "recommendations = model.recommend(\n",
    "    user_id_to_recommend_for,\n",
    "    user_item_matrix[user_id_to_recommend_for], # Pass the user's interaction vector\n",
    "    N=n_recommendations,\n",
    "    filter_already_liked_items=True\n",
    ")\n",
    "\n",
    "print(f\"\\nRecommendations for user {user_id_to_recommend_for}:\")\n",
    "for item_id, score in zip(*recommendations):\n",
    "    print(f\"  Item ID: {item_id}, Score: {score:.4f}\")"
   ]
  },
  {
   "cell_type": "code",
   "execution_count": 168,
   "id": "fb3acf15",
   "metadata": {},
   "outputs": [
    {
     "data": {
      "text/html": [
       "<div>\n",
       "<style scoped>\n",
       "    .dataframe tbody tr th:only-of-type {\n",
       "        vertical-align: middle;\n",
       "    }\n",
       "\n",
       "    .dataframe tbody tr th {\n",
       "        vertical-align: top;\n",
       "    }\n",
       "\n",
       "    .dataframe thead th {\n",
       "        text-align: right;\n",
       "    }\n",
       "</style>\n",
       "<table border=\"1\" class=\"dataframe\">\n",
       "  <thead>\n",
       "    <tr style=\"text-align: right;\">\n",
       "      <th></th>\n",
       "      <th>user_id</th>\n",
       "      <th>item_id</th>\n",
       "      <th>liked</th>\n",
       "    </tr>\n",
       "  </thead>\n",
       "  <tbody>\n",
       "    <tr>\n",
       "      <th>45</th>\n",
       "      <td>9</td>\n",
       "      <td>3</td>\n",
       "      <td>1</td>\n",
       "    </tr>\n",
       "    <tr>\n",
       "      <th>46</th>\n",
       "      <td>9</td>\n",
       "      <td>12</td>\n",
       "      <td>1</td>\n",
       "    </tr>\n",
       "    <tr>\n",
       "      <th>47</th>\n",
       "      <td>9</td>\n",
       "      <td>23</td>\n",
       "      <td>1</td>\n",
       "    </tr>\n",
       "    <tr>\n",
       "      <th>48</th>\n",
       "      <td>9</td>\n",
       "      <td>62</td>\n",
       "      <td>1</td>\n",
       "    </tr>\n",
       "    <tr>\n",
       "      <th>49</th>\n",
       "      <td>9</td>\n",
       "      <td>84</td>\n",
       "      <td>1</td>\n",
       "    </tr>\n",
       "  </tbody>\n",
       "</table>\n",
       "</div>"
      ],
      "text/plain": [
       "    user_id  item_id  liked\n",
       "45        9        3      1\n",
       "46        9       12      1\n",
       "47        9       23      1\n",
       "48        9       62      1\n",
       "49        9       84      1"
      ]
     },
     "execution_count": 168,
     "metadata": {},
     "output_type": "execute_result"
    }
   ],
   "source": [
    "# Compare to original pins\n",
    "interactions[interactions['user_id'] == user_id_to_recommend_for]"
   ]
  },
  {
   "cell_type": "code",
   "execution_count": 169,
   "id": "acfc685e",
   "metadata": {},
   "outputs": [
    {
     "data": {
      "text/plain": [
       "array([ 8, 11, 27, 20, 17], dtype=int32)"
      ]
     },
     "execution_count": 169,
     "metadata": {},
     "output_type": "execute_result"
    }
   ],
   "source": [
    "recommendations[0]"
   ]
  },
  {
   "cell_type": "code",
   "execution_count": 170,
   "id": "c6fd9557",
   "metadata": {},
   "outputs": [
    {
     "data": {
      "text/html": [
       "<div>\n",
       "<style scoped>\n",
       "    .dataframe tbody tr th:only-of-type {\n",
       "        vertical-align: middle;\n",
       "    }\n",
       "\n",
       "    .dataframe tbody tr th {\n",
       "        vertical-align: top;\n",
       "    }\n",
       "\n",
       "    .dataframe thead th {\n",
       "        text-align: right;\n",
       "    }\n",
       "</style>\n",
       "<table border=\"1\" class=\"dataframe\">\n",
       "  <thead>\n",
       "    <tr style=\"text-align: right;\">\n",
       "      <th></th>\n",
       "      <th>item_id</th>\n",
       "      <th>title</th>\n",
       "      <th>tags</th>\n",
       "      <th>category</th>\n",
       "    </tr>\n",
       "  </thead>\n",
       "  <tbody>\n",
       "    <tr>\n",
       "      <th>8</th>\n",
       "      <td>8</td>\n",
       "      <td>Ruffle Mini Skirt</td>\n",
       "      <td>['feminine', 'skirt', 'summer']</td>\n",
       "      <td>bottoms</td>\n",
       "    </tr>\n",
       "    <tr>\n",
       "      <th>11</th>\n",
       "      <td>11</td>\n",
       "      <td>Casual Chambray Shirt</td>\n",
       "      <td>['casual', 'shirt', 'denim']</td>\n",
       "      <td>tops</td>\n",
       "    </tr>\n",
       "    <tr>\n",
       "      <th>17</th>\n",
       "      <td>17</td>\n",
       "      <td>Chic Leather Handbag</td>\n",
       "      <td>['chic', 'handbag', 'leather']</td>\n",
       "      <td>accessories</td>\n",
       "    </tr>\n",
       "    <tr>\n",
       "      <th>20</th>\n",
       "      <td>20</td>\n",
       "      <td>Graphic Tee with Vintage Print</td>\n",
       "      <td>['graphic', 'tee', 'vintage']</td>\n",
       "      <td>tops</td>\n",
       "    </tr>\n",
       "    <tr>\n",
       "      <th>27</th>\n",
       "      <td>27</td>\n",
       "      <td>Denim Overalls</td>\n",
       "      <td>['denim', 'overalls', 'casual']</td>\n",
       "      <td>bottoms</td>\n",
       "    </tr>\n",
       "  </tbody>\n",
       "</table>\n",
       "</div>"
      ],
      "text/plain": [
       "    item_id                           title                             tags  \\\n",
       "8         8               Ruffle Mini Skirt  ['feminine', 'skirt', 'summer']   \n",
       "11       11           Casual Chambray Shirt     ['casual', 'shirt', 'denim']   \n",
       "17       17            Chic Leather Handbag   ['chic', 'handbag', 'leather']   \n",
       "20       20  Graphic Tee with Vintage Print    ['graphic', 'tee', 'vintage']   \n",
       "27       27                  Denim Overalls  ['denim', 'overalls', 'casual']   \n",
       "\n",
       "       category  \n",
       "8       bottoms  \n",
       "11         tops  \n",
       "17  accessories  \n",
       "20         tops  \n",
       "27      bottoms  "
      ]
     },
     "execution_count": 170,
     "metadata": {},
     "output_type": "execute_result"
    }
   ],
   "source": [
    "items.loc[items['item_id'].isin([item_id for item_id in recommendations[0]])]"
   ]
  },
  {
   "cell_type": "code",
   "execution_count": 171,
   "id": "7453e488",
   "metadata": {},
   "outputs": [
    {
     "data": {
      "text/html": [
       "<div>\n",
       "<style scoped>\n",
       "    .dataframe tbody tr th:only-of-type {\n",
       "        vertical-align: middle;\n",
       "    }\n",
       "\n",
       "    .dataframe tbody tr th {\n",
       "        vertical-align: top;\n",
       "    }\n",
       "\n",
       "    .dataframe thead th {\n",
       "        text-align: right;\n",
       "    }\n",
       "</style>\n",
       "<table border=\"1\" class=\"dataframe\">\n",
       "  <thead>\n",
       "    <tr style=\"text-align: right;\">\n",
       "      <th></th>\n",
       "      <th>item_id</th>\n",
       "      <th>title</th>\n",
       "      <th>tags</th>\n",
       "      <th>category</th>\n",
       "    </tr>\n",
       "  </thead>\n",
       "  <tbody>\n",
       "    <tr>\n",
       "      <th>3</th>\n",
       "      <td>3</td>\n",
       "      <td>Cozy Knit Sweater</td>\n",
       "      <td>['cozy', 'sweater', 'fall']</td>\n",
       "      <td>tops</td>\n",
       "    </tr>\n",
       "    <tr>\n",
       "      <th>12</th>\n",
       "      <td>12</td>\n",
       "      <td>Plaid Flannel Shirt</td>\n",
       "      <td>['plaid', 'flannel', 'cozy']</td>\n",
       "      <td>tops</td>\n",
       "    </tr>\n",
       "    <tr>\n",
       "      <th>23</th>\n",
       "      <td>23</td>\n",
       "      <td>Plaid A-Line Skirt</td>\n",
       "      <td>['plaid', 'A-line', 'skirt']</td>\n",
       "      <td>bottoms</td>\n",
       "    </tr>\n",
       "    <tr>\n",
       "      <th>62</th>\n",
       "      <td>62</td>\n",
       "      <td>Casual Plaid Shirt Dress</td>\n",
       "      <td>['casual', 'plaid', 'shirt dress']</td>\n",
       "      <td>dresses</td>\n",
       "    </tr>\n",
       "    <tr>\n",
       "      <th>84</th>\n",
       "      <td>84</td>\n",
       "      <td>Casual Plaid Button-Up Shirt</td>\n",
       "      <td>['casual', 'plaid', 'button-up']</td>\n",
       "      <td>mens tops</td>\n",
       "    </tr>\n",
       "  </tbody>\n",
       "</table>\n",
       "</div>"
      ],
      "text/plain": [
       "    item_id                         title                                tags  \\\n",
       "3         3             Cozy Knit Sweater         ['cozy', 'sweater', 'fall']   \n",
       "12       12           Plaid Flannel Shirt        ['plaid', 'flannel', 'cozy']   \n",
       "23       23            Plaid A-Line Skirt        ['plaid', 'A-line', 'skirt']   \n",
       "62       62      Casual Plaid Shirt Dress  ['casual', 'plaid', 'shirt dress']   \n",
       "84       84  Casual Plaid Button-Up Shirt    ['casual', 'plaid', 'button-up']   \n",
       "\n",
       "     category  \n",
       "3        tops  \n",
       "12       tops  \n",
       "23    bottoms  \n",
       "62    dresses  \n",
       "84  mens tops  "
      ]
     },
     "execution_count": 171,
     "metadata": {},
     "output_type": "execute_result"
    }
   ],
   "source": [
    "liked_ids = interactions[interactions['user_id'] == user_id_to_recommend_for][\"item_id\"].values\n",
    "items.loc[items['item_id'].isin(liked_ids)]"
   ]
  },
  {
   "cell_type": "code",
   "execution_count": 172,
   "id": "1332a079",
   "metadata": {},
   "outputs": [
    {
     "data": {
      "text/html": [
       "<div>\n",
       "<style scoped>\n",
       "    .dataframe tbody tr th:only-of-type {\n",
       "        vertical-align: middle;\n",
       "    }\n",
       "\n",
       "    .dataframe tbody tr th {\n",
       "        vertical-align: top;\n",
       "    }\n",
       "\n",
       "    .dataframe thead th {\n",
       "        text-align: right;\n",
       "    }\n",
       "</style>\n",
       "<table border=\"1\" class=\"dataframe\">\n",
       "  <thead>\n",
       "    <tr style=\"text-align: right;\">\n",
       "      <th></th>\n",
       "      <th>user_id</th>\n",
       "      <th>interests</th>\n",
       "    </tr>\n",
       "  </thead>\n",
       "  <tbody>\n",
       "    <tr>\n",
       "      <th>9</th>\n",
       "      <td>9</td>\n",
       "      <td>['plaid', 'flannel', 'cozy']</td>\n",
       "    </tr>\n",
       "  </tbody>\n",
       "</table>\n",
       "</div>"
      ],
      "text/plain": [
       "   user_id                     interests\n",
       "9        9  ['plaid', 'flannel', 'cozy']"
      ]
     },
     "execution_count": 172,
     "metadata": {},
     "output_type": "execute_result"
    }
   ],
   "source": [
    "users[users['user_id'] == user_id_to_recommend_for]"
   ]
  },
  {
   "cell_type": "markdown",
   "id": "baad0609",
   "metadata": {},
   "source": [
    "Since our current version of Pinterest doesn't contain many users, and most users are in a cold-start stage, collaborative filtering isn't working as well as content based filtering. This is because it's not taking into account user preferences, and there's likely not very much overlap in user pins when each user only has 2 or 3. This makes it so even the top recommendations have a low score. However, content-based filtering didn't really take into account the users current pins, which could be useful to gain more insights into their preferences beyond what was indicated on their profile. So next I think it would be worth trying a hybrid approach. "
   ]
  },
  {
   "cell_type": "markdown",
   "id": "a814b01f",
   "metadata": {},
   "source": [
    "## Hybrid Approach"
   ]
  },
  {
   "cell_type": "markdown",
   "id": "7a7e8638",
   "metadata": {},
   "source": [
    "There are several approaches to combining collaborative and content-based filtering, but in this case I think it would be good to try a weighted average of the scores from each method: final_score = alpha * content_score + (1 - alpha) * collaborative_score. "
   ]
  },
  {
   "cell_type": "code",
   "execution_count": 173,
   "id": "8e83be84",
   "metadata": {},
   "outputs": [],
   "source": [
    "def hybrid_filter(user_id, top_n=5, alpha=0.5):\n",
    "    \"\"\"\n",
    "    Hybrid recommendation combining content-based and collaborative filtering.\n",
    "    \n",
    "    Parameters:\n",
    "    - user_id: ID of the user for whom to recommend items.\n",
    "    - top_n: Number of top recommendations to return.\n",
    "    - alpha: Weighting factor between content-based and collaborative scores (0 <= alpha <= 1).\n",
    "    \n",
    "    Returns:\n",
    "    - DataFrame of recommended items.\n",
    "    \"\"\"\n",
    "    # Get content-based recommendations\n",
    "    content_recs = recommend_items(user_id, top_n=top_n*2)  # Get more to allow for filtering later\n",
    "    content_scores = np.ones(len(content_recs))  # Placeholder scores for content-based (could be improved)\n",
    "    \n",
    "    # Get collaborative filtering recommendations\n",
    "    collab_recs = model.recommend(\n",
    "        user_id,\n",
    "        user_item_matrix[user_id],\n",
    "        N=top_n*2,\n",
    "        filter_already_liked_items=True\n",
    "    )\n",
    "    #print(collab_recs)\n",
    "    collab_item_ids = [item_id for item_id, _ in zip(*collab_recs)]\n",
    "    collab_scores = [score for _, score in zip(*collab_recs)]\n",
    "#    collab_item_ids, collab_scores = zip(*collab_recs)\n",
    "    \n",
    "    # Combine scores\n",
    "    combined_scores = {}\n",
    "    \n",
    "    for idx, item in enumerate(content_recs['item_id']):\n",
    "        combined_scores[item] = alpha * content_scores[idx]\n",
    "    \n",
    "    for idx, item in enumerate(collab_item_ids):\n",
    "        if item in combined_scores:\n",
    "            combined_scores[item] += (1 - alpha) * collab_scores[idx]\n",
    "        else:\n",
    "            combined_scores[item] = (1 - alpha) * collab_scores[idx]\n",
    "    \n",
    "    # Sort by combined score and get top N\n",
    "    sorted_items = sorted(combined_scores.items(), key=lambda x: x[1], reverse=True)[:top_n]\n",
    "    recommended_item_ids = [item[0] for item in sorted_items]\n",
    "    \n",
    "    return items.loc[items['item_id'].isin(recommended_item_ids)]"
   ]
  },
  {
   "cell_type": "code",
   "execution_count": null,
   "id": "ea7d479b",
   "metadata": {},
   "outputs": [],
   "source": []
  },
  {
   "cell_type": "markdown",
   "id": "7473221b",
   "metadata": {},
   "source": [
    "Let's test our system with a few examples. "
   ]
  },
  {
   "cell_type": "code",
   "execution_count": 174,
   "id": "d58682c0",
   "metadata": {},
   "outputs": [
    {
     "name": "stdout",
     "output_type": "stream",
     "text": [
      "User Profile for User ID: 23\n",
      "    user_id                      interests\n",
      "23       23  ['elegant', 'silk', 'summer']\n",
      "Saved Items for User ID: 23\n",
      "    item_id                    title                             tags  \\\n",
      "0         0   Boho Summer Maxi Dress      ['boho', 'dress', 'summer']   \n",
      "8         8        Ruffle Mini Skirt  ['feminine', 'skirt', 'summer']   \n",
      "10       10     Elegant Evening Gown    ['elegant', 'gown', 'formal']   \n",
      "15       15  Floral Print Maxi Skirt     ['floral', 'maxi', 'summer']   \n",
      "18       18     Woven Straw Tote Bag      ['woven', 'tote', 'summer']   \n",
      "26       26       Elegant Silk Scarf     ['elegant', 'silk', 'scarf']   \n",
      "\n",
      "       category  \n",
      "0       dresses  \n",
      "8       bottoms  \n",
      "10      dresses  \n",
      "15      bottoms  \n",
      "18  accessories  \n",
      "26  accessories  \n",
      "Hybrid Recommendations for user 23:\n",
      "    item_id                                 title  \\\n",
      "36       36               Floral Print Wrap Dress   \n",
      "57       57                   Elegant Silk Blouse   \n",
      "68       68  Elegant Silk Scarf with Floral Print   \n",
      "74       74       Elegant Lace Dress with Sleeves   \n",
      "83       83               Elegant Silk Wrap Dress   \n",
      "\n",
      "                                        tags     category  \n",
      "36        ['floral', 'wrap dress', 'summer']      dresses  \n",
      "57             ['elegant', 'silk', 'blouse']         tops  \n",
      "68       ['elegant', 'silk scarf', 'floral']  accessories  \n",
      "74      ['elegant', 'lace dress', 'sleeves']      dresses  \n",
      "83  ['elegant', 'silk wrap dress', 'summer']      dresses  \n"
     ]
    }
   ],
   "source": [
    "user_id = 23\n",
    "recommendations = hybrid_filter(user_id, top_n=5, alpha=0.5)\n",
    "print(f\"User Profile for User ID: {user_id}\")\n",
    "print(users[users['user_id'] == user_id])\n",
    "print(\"Saved Items for User ID:\", user_id)\n",
    "liked_ids = interactions[interactions['user_id'] == user_id][\"item_id\"].values\n",
    "print(items.loc[items['item_id'].isin(liked_ids)])\n",
    "print(f\"Hybrid Recommendations for user {user_id}:\")\n",
    "print(recommendations)"
   ]
  },
  {
   "cell_type": "markdown",
   "id": "9fb1cb76",
   "metadata": {},
   "source": [
    "That seems to work way better, at least for this user! Let's try one or two more examples. "
   ]
  },
  {
   "cell_type": "code",
   "execution_count": 175,
   "id": "bd800689",
   "metadata": {},
   "outputs": [
    {
     "name": "stdout",
     "output_type": "stream",
     "text": [
      "User Profile for User ID: 16\n",
      "    user_id                          interests\n",
      "16       16  ['classic', 'casual', 'sneakers']\n",
      "Saved Items for User ID: 16\n",
      "    item_id                    title                                    tags  \\\n",
      "6         6     Classic Black Blazer         ['classic', 'blazer', 'formal']   \n",
      "7         7      Colorblock Sneakers  ['sneakers', 'colorful', 'streetwear']   \n",
      "11       11    Casual Chambray Shirt            ['casual', 'shirt', 'denim']   \n",
      "14       14  Retro High-Top Sneakers         ['retro', 'sneakers', 'casual']   \n",
      "19       19   Classic White Sneakers       ['classic', 'sneakers', 'casual']   \n",
      "25       25     Casual Slip-On Shoes       ['casual', 'slip-on', 'footwear']   \n",
      "\n",
      "     category  \n",
      "6   outerwear  \n",
      "7    footwear  \n",
      "11       tops  \n",
      "14   footwear  \n",
      "19   footwear  \n",
      "25   footwear  \n",
      "Hybrid Recommendations for user 16:\n",
      "    item_id                                  title  \\\n",
      "44       44               Chunky Platform Sneakers   \n",
      "49       49                Casual Slip-On Sneakers   \n",
      "58       58                 Casual Canvas Sneakers   \n",
      "67       67  Sporty Athletic Shoes with Cushioning   \n",
      "72       72       Vintage-Inspired Canvas Sneakers   \n",
      "\n",
      "                                        tags  category  \n",
      "44        ['chunky', 'platform', 'sneakers']  footwear  \n",
      "49         ['casual', 'slip-on', 'sneakers']  footwear  \n",
      "58          ['casual', 'canvas', 'sneakers']  footwear  \n",
      "67           ['sporty', 'athletic', 'shoes']  footwear  \n",
      "72  ['vintage', 'canvas sneakers', 'casual']  footwear  \n"
     ]
    }
   ],
   "source": [
    "user_id = 16\n",
    "recommendations = hybrid_filter(user_id, top_n=5, alpha=0.5)\n",
    "print(f\"User Profile for User ID: {user_id}\")\n",
    "print(users[users['user_id'] == user_id])\n",
    "print(\"Saved Items for User ID:\", user_id)\n",
    "liked_ids = interactions[interactions['user_id'] == user_id][\"item_id\"].values\n",
    "print(items.loc[items['item_id'].isin(liked_ids)])\n",
    "print(f\"Hybrid Recommendations for user {user_id}:\")\n",
    "print(recommendations)"
   ]
  },
  {
   "cell_type": "code",
   "execution_count": 176,
   "id": "3358a473",
   "metadata": {},
   "outputs": [
    {
     "name": "stdout",
     "output_type": "stream",
     "text": [
      "User Profile for User ID: 47\n",
      "    user_id                                  interests\n",
      "47       47  ['elegant pearl earrings', 'accessories']\n",
      "Saved Items for User ID: 47\n",
      "    item_id                        title  \\\n",
      "40       40  Vintage-Inspired Sunglasses   \n",
      "63       63   Elegant Statement Necklace   \n",
      "\n",
      "                                                tags     category  \n",
      "40          ['vintage', 'sunglasses', 'accessories']  accessories  \n",
      "63  ['elegant', 'statement necklace', 'accessories']  accessories  \n",
      "Hybrid Recommendations for user 47:\n",
      "    item_id                                 title  \\\n",
      "26       26                    Elegant Silk Scarf   \n",
      "30       30              Bohemian Beaded Necklace   \n",
      "50       50                Elegant Pearl Earrings   \n",
      "54       54      Vintage-Inspired Leather Satchel   \n",
      "68       68  Elegant Silk Scarf with Floral Print   \n",
      "\n",
      "                                   tags     category  \n",
      "26         ['elegant', 'silk', 'scarf']  accessories  \n",
      "30   ['bohemian', 'necklace', 'beaded']  accessories  \n",
      "50     ['elegant', 'pearl', 'earrings']  accessories  \n",
      "54    ['vintage', 'leather', 'satchel']  accessories  \n",
      "68  ['elegant', 'silk scarf', 'floral']  accessories  \n"
     ]
    }
   ],
   "source": [
    "user_id = 47\n",
    "recommendations = hybrid_filter(user_id, top_n=5, alpha=0.5)\n",
    "print(f\"User Profile for User ID: {user_id}\")\n",
    "print(users[users['user_id'] == user_id])\n",
    "print(\"Saved Items for User ID:\", user_id)\n",
    "liked_ids = interactions[interactions['user_id'] == user_id][\"item_id\"].values\n",
    "print(items.loc[items['item_id'].isin(liked_ids)])\n",
    "print(f\"Hybrid Recommendations for user {user_id}:\")\n",
    "print(recommendations)"
   ]
  },
  {
   "cell_type": "code",
   "execution_count": 177,
   "id": "2653e37b",
   "metadata": {},
   "outputs": [
    {
     "name": "stdout",
     "output_type": "stream",
     "text": [
      "User Profile for User ID: 17\n",
      "    user_id                      interests\n",
      "17       17  ['graphic', 'tee', 'vintage']\n",
      "Saved Items for User ID: 17\n",
      "    item_id                             title  \\\n",
      "2         2              Vintage Denim Jacket   \n",
      "20       20    Graphic Tee with Vintage Print   \n",
      "29       29  Vintage-Inspired Mary Jane Flats   \n",
      "35       35    Graphic Hoodie with Bold Print   \n",
      "40       40       Vintage-Inspired Sunglasses   \n",
      "41       41           Casual Graphic Tank Top   \n",
      "\n",
      "                                        tags     category  \n",
      "2             ['vintage', 'jacket', 'denim']    outerwear  \n",
      "20             ['graphic', 'tee', 'vintage']         tops  \n",
      "29            ['vintage', 'flats', 'casual']     footwear  \n",
      "35             ['graphic', 'hoodie', 'bold']    outerwear  \n",
      "40  ['vintage', 'sunglasses', 'accessories']  accessories  \n",
      "41         ['casual', 'graphic', 'tank top']         tops  \n",
      "Hybrid Recommendations for user 17:\n",
      "    item_id                            title  \\\n",
      "4         4        Streetwear Graphic Hoodie   \n",
      "11       11            Casual Chambray Shirt   \n",
      "52       52          Casual Hoodie with Logo   \n",
      "69       69  Casual Graphic Hoodie with Logo   \n",
      "73       73            Casual Striped Hoodie   \n",
      "\n",
      "                                           tags   category  \n",
      "4             ['streetwear', 'hoodie', 'urban']  outerwear  \n",
      "11                 ['casual', 'shirt', 'denim']       tops  \n",
      "52                 ['casual', 'hoodie', 'logo']  outerwear  \n",
      "69         ['casual', 'graphic hoodie', 'logo']  outerwear  \n",
      "73  ['casual', 'striped hoodie', 'comfortable']  outerwear  \n"
     ]
    }
   ],
   "source": [
    "user_id = 17\n",
    "recommendations = hybrid_filter(user_id, top_n=5, alpha=0.25)\n",
    "print(f\"User Profile for User ID: {user_id}\")\n",
    "print(users[users['user_id'] == user_id])\n",
    "print(\"Saved Items for User ID:\", user_id)\n",
    "liked_ids = interactions[interactions['user_id'] == user_id][\"item_id\"].values\n",
    "print(items.loc[items['item_id'].isin(liked_ids)])\n",
    "print(f\"Hybrid Recommendations for user {user_id}:\")\n",
    "print(recommendations)"
   ]
  },
  {
   "cell_type": "markdown",
   "id": "0170a8fd",
   "metadata": {},
   "source": [
    "I would say both of those look great! Even with only two saved items, the recommendations did seem to really match the user's profile and future directions (e.g. vintage, which wasn't an indicated interest). This shows that even a simple 50/50 hybrid can dramatically improve recommendation quality by balancing personalization and discovery."
   ]
  }
 ],
 "metadata": {
  "kernelspec": {
   "display_name": "pinlight",
   "language": "python",
   "name": "python3"
  },
  "language_info": {
   "codemirror_mode": {
    "name": "ipython",
    "version": 3
   },
   "file_extension": ".py",
   "mimetype": "text/x-python",
   "name": "python",
   "nbconvert_exporter": "python",
   "pygments_lexer": "ipython3",
   "version": "3.12.11"
  }
 },
 "nbformat": 4,
 "nbformat_minor": 5
}
