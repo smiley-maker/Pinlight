{
 "cells": [
  {
   "cell_type": "markdown",
   "id": "2e98cc5a",
   "metadata": {},
   "source": [
    "# Embedding Item Title & Tags"
   ]
  },
  {
   "cell_type": "code",
   "execution_count": 20,
   "id": "0ed5e54f",
   "metadata": {},
   "outputs": [],
   "source": [
    "import pandas as pd\n",
    "import ast\n",
    "import numpy as np\n",
    "from sentence_transformers import SentenceTransformer\n",
    "import matplotlib.pyplot as plt\n",
    "from sklearn.metrics.pairwise import cosine_similarity\n",
    "from torch.nn.functional import normalize"
   ]
  },
  {
   "cell_type": "markdown",
   "id": "9527100e",
   "metadata": {},
   "source": [
    "Load in the items dataset. "
   ]
  },
  {
   "cell_type": "code",
   "execution_count": 5,
   "id": "a1d649c1",
   "metadata": {},
   "outputs": [
    {
     "data": {
      "text/html": [
       "<div>\n",
       "<style scoped>\n",
       "    .dataframe tbody tr th:only-of-type {\n",
       "        vertical-align: middle;\n",
       "    }\n",
       "\n",
       "    .dataframe tbody tr th {\n",
       "        vertical-align: top;\n",
       "    }\n",
       "\n",
       "    .dataframe thead th {\n",
       "        text-align: right;\n",
       "    }\n",
       "</style>\n",
       "<table border=\"1\" class=\"dataframe\">\n",
       "  <thead>\n",
       "    <tr style=\"text-align: right;\">\n",
       "      <th></th>\n",
       "      <th>title</th>\n",
       "      <th>tags</th>\n",
       "      <th>category</th>\n",
       "    </tr>\n",
       "    <tr>\n",
       "      <th>item_id</th>\n",
       "      <th></th>\n",
       "      <th></th>\n",
       "      <th></th>\n",
       "    </tr>\n",
       "  </thead>\n",
       "  <tbody>\n",
       "    <tr>\n",
       "      <th>0</th>\n",
       "      <td>Boho Summer Maxi Dress</td>\n",
       "      <td>[boho, dress, summer]</td>\n",
       "      <td>dresses</td>\n",
       "    </tr>\n",
       "    <tr>\n",
       "      <th>1</th>\n",
       "      <td>Minimalist Linen Blouse</td>\n",
       "      <td>[minimalist, blouse, neutrals]</td>\n",
       "      <td>tops</td>\n",
       "    </tr>\n",
       "    <tr>\n",
       "      <th>2</th>\n",
       "      <td>Vintage Denim Jacket</td>\n",
       "      <td>[vintage, jacket, denim]</td>\n",
       "      <td>outerwear</td>\n",
       "    </tr>\n",
       "    <tr>\n",
       "      <th>3</th>\n",
       "      <td>Cozy Knit Sweater</td>\n",
       "      <td>[cozy, sweater, fall]</td>\n",
       "      <td>tops</td>\n",
       "    </tr>\n",
       "    <tr>\n",
       "      <th>4</th>\n",
       "      <td>Streetwear Graphic Hoodie</td>\n",
       "      <td>[streetwear, hoodie, urban]</td>\n",
       "      <td>outerwear</td>\n",
       "    </tr>\n",
       "  </tbody>\n",
       "</table>\n",
       "</div>"
      ],
      "text/plain": [
       "                             title                            tags   category\n",
       "item_id                                                                      \n",
       "0           Boho Summer Maxi Dress           [boho, dress, summer]    dresses\n",
       "1          Minimalist Linen Blouse  [minimalist, blouse, neutrals]       tops\n",
       "2             Vintage Denim Jacket        [vintage, jacket, denim]  outerwear\n",
       "3                Cozy Knit Sweater           [cozy, sweater, fall]       tops\n",
       "4        Streetwear Graphic Hoodie     [streetwear, hoodie, urban]  outerwear"
      ]
     },
     "execution_count": 5,
     "metadata": {},
     "output_type": "execute_result"
    }
   ],
   "source": [
    "df = pd.read_csv('../data/fashion_items.csv')\n",
    "df.set_index('item_id', inplace=True)\n",
    "df['tags'] = df['tags'].apply(ast.literal_eval)\n",
    "df.head()"
   ]
  },
  {
   "cell_type": "code",
   "execution_count": 6,
   "id": "1fdeb8b2",
   "metadata": {},
   "outputs": [],
   "source": [
    "# Load sentence transformer model\n",
    "model = SentenceTransformer('all-MiniLM-L6-v2')"
   ]
  },
  {
   "cell_type": "code",
   "execution_count": null,
   "id": "82ede5fc",
   "metadata": {},
   "outputs": [],
   "source": [
    "# Function to embed item titles, tags, and category\n",
    "def embed_item(item):\n",
    "    title_embedding = model.encode(item['title'], convert_to_tensor=True)\n",
    "    tags_embedding = model.encode(' '.join(item['tags']), convert_to_tensor=True)\n",
    "    category_embedding = model.encode(item['category'], convert_to_tensor=True)\n",
    "\n",
    "    combined = (0.3 * title_embedding + 0.5 * tags_embedding + 0.2 * category_embedding) / 3\n",
    "    return normalize(combined.unsqueeze(0), p=2, dim=1).squeeze(0)\n"
   ]
  },
  {
   "cell_type": "code",
   "execution_count": 11,
   "id": "0c4cd0a6",
   "metadata": {},
   "outputs": [],
   "source": [
    "# Use function to embed all items into a dictionary of item -> embedding\n",
    "item_embeddings = {item_id: embed_item(item) for item_id, item in df.iterrows()}"
   ]
  },
  {
   "cell_type": "markdown",
   "id": "fb48fe18",
   "metadata": {},
   "source": [
    "Now that we have the embeddings, we can check item similarities. "
   ]
  },
  {
   "cell_type": "code",
   "execution_count": 27,
   "id": "d42d7a69",
   "metadata": {},
   "outputs": [
    {
     "name": "stdout",
     "output_type": "stream",
     "text": [
      "Cosine similarity between item 12 and item 23: 0.6727408170700073\n"
     ]
    }
   ],
   "source": [
    "embedding_0 = item_embeddings[12]\n",
    "embedding_1 = item_embeddings[23]\n",
    "\n",
    "# Check similarity between two embeddings\n",
    "similarity = cosine_similarity(embedding_0.cpu().reshape(1, -1), embedding_1.cpu().reshape(1, -1))\n",
    "print(f\"Cosine similarity between item 12 and item 23: {similarity[0][0]}\")"
   ]
  },
  {
   "cell_type": "markdown",
   "id": "90bd2583",
   "metadata": {},
   "source": [
    "Seems to work! Let's verify by printing the details of those two items. "
   ]
  },
  {
   "cell_type": "code",
   "execution_count": 28,
   "id": "ca331b0c",
   "metadata": {},
   "outputs": [
    {
     "name": "stdout",
     "output_type": "stream",
     "text": [
      "Item 12 details:\n",
      "title          Plaid Flannel Shirt\n",
      "tags        [plaid, flannel, cozy]\n",
      "category                      tops\n",
      "Name: 12, dtype: object\n",
      "\n",
      "Item 23 details:\n",
      "title           Plaid A-Line Skirt\n",
      "tags        [plaid, A-line, skirt]\n",
      "category                   bottoms\n",
      "Name: 23, dtype: object\n"
     ]
    }
   ],
   "source": [
    "print(\"Item 12 details:\")\n",
    "print(df.loc[12])\n",
    "print(\"\\nItem 23 details:\")\n",
    "print(df.loc[23])"
   ]
  },
  {
   "cell_type": "markdown",
   "id": "4dcab4f1",
   "metadata": {},
   "source": [
    "Those items do seem pretty similar! They both have plaid elements. 0.7 seems appropriate because otherwise their different (bottoms vs tops, etc). Let's try another pair!"
   ]
  },
  {
   "cell_type": "code",
   "execution_count": 44,
   "id": "302fc83c",
   "metadata": {},
   "outputs": [
    {
     "name": "stdout",
     "output_type": "stream",
     "text": [
      "Cosine similarity between item 5 and item 77: 0.16947853565216064\n"
     ]
    }
   ],
   "source": [
    "embedding_0 = item_embeddings[5]\n",
    "embedding_1 = item_embeddings[77]\n",
    "\n",
    "# Check similarity between two embeddings\n",
    "similarity = cosine_similarity(embedding_0.cpu().reshape(1, -1), embedding_1.cpu().reshape(1, -1))\n",
    "print(f\"Cosine similarity between item 5 and item 77: {similarity[0][0]}\")"
   ]
  },
  {
   "cell_type": "code",
   "execution_count": 45,
   "id": "a56bdd7d",
   "metadata": {},
   "outputs": [
    {
     "name": "stdout",
     "output_type": "stream",
     "text": [
      "Item 5 details:\n",
      "title                  Sustainable Yoga Set\n",
      "tags        [sustainable, athleisure, yoga]\n",
      "category                         activewear\n",
      "Name: 5, dtype: object\n",
      "\n",
      "Item 77 details:\n",
      "title       Tailored Wool Blazer with Lining\n",
      "tags         [tailored, wool blazer, lining]\n",
      "category                           outerwear\n",
      "Name: 77, dtype: object\n"
     ]
    }
   ],
   "source": [
    "print(\"Item 5 details:\")\n",
    "print(df.loc[5])\n",
    "print(\"\\nItem 77 details:\")\n",
    "print(df.loc[77])"
   ]
  },
  {
   "cell_type": "markdown",
   "id": "d924e21b",
   "metadata": {},
   "source": [
    "That seems pretty good, these two items don't have much in common. "
   ]
  },
  {
   "cell_type": "markdown",
   "id": "09e42c65",
   "metadata": {},
   "source": [
    "Now we should save this embeddings dataset for later. "
   ]
  },
  {
   "cell_type": "code",
   "execution_count": 50,
   "id": "a0ee6038",
   "metadata": {},
   "outputs": [
    {
     "data": {
      "text/html": [
       "<div>\n",
       "<style scoped>\n",
       "    .dataframe tbody tr th:only-of-type {\n",
       "        vertical-align: middle;\n",
       "    }\n",
       "\n",
       "    .dataframe tbody tr th {\n",
       "        vertical-align: top;\n",
       "    }\n",
       "\n",
       "    .dataframe thead th {\n",
       "        text-align: right;\n",
       "    }\n",
       "</style>\n",
       "<table border=\"1\" class=\"dataframe\">\n",
       "  <thead>\n",
       "    <tr style=\"text-align: right;\">\n",
       "      <th></th>\n",
       "      <th>0</th>\n",
       "      <th>1</th>\n",
       "      <th>2</th>\n",
       "      <th>3</th>\n",
       "      <th>4</th>\n",
       "      <th>5</th>\n",
       "      <th>6</th>\n",
       "      <th>7</th>\n",
       "      <th>8</th>\n",
       "      <th>9</th>\n",
       "      <th>...</th>\n",
       "      <th>374</th>\n",
       "      <th>375</th>\n",
       "      <th>376</th>\n",
       "      <th>377</th>\n",
       "      <th>378</th>\n",
       "      <th>379</th>\n",
       "      <th>380</th>\n",
       "      <th>381</th>\n",
       "      <th>382</th>\n",
       "      <th>383</th>\n",
       "    </tr>\n",
       "  </thead>\n",
       "  <tbody>\n",
       "    <tr>\n",
       "      <th>0</th>\n",
       "      <td>-0.074143</td>\n",
       "      <td>0.064050</td>\n",
       "      <td>-0.009264</td>\n",
       "      <td>0.046263</td>\n",
       "      <td>-0.027863</td>\n",
       "      <td>-0.048036</td>\n",
       "      <td>0.064230</td>\n",
       "      <td>-0.072758</td>\n",
       "      <td>-0.083279</td>\n",
       "      <td>-0.023699</td>\n",
       "      <td>...</td>\n",
       "      <td>-0.032186</td>\n",
       "      <td>-0.009203</td>\n",
       "      <td>-0.015632</td>\n",
       "      <td>0.013018</td>\n",
       "      <td>0.038265</td>\n",
       "      <td>0.057547</td>\n",
       "      <td>0.033841</td>\n",
       "      <td>-0.040459</td>\n",
       "      <td>-0.005354</td>\n",
       "      <td>-0.016443</td>\n",
       "    </tr>\n",
       "    <tr>\n",
       "      <th>1</th>\n",
       "      <td>-0.053667</td>\n",
       "      <td>0.086153</td>\n",
       "      <td>0.008184</td>\n",
       "      <td>-0.027359</td>\n",
       "      <td>0.064028</td>\n",
       "      <td>-0.062513</td>\n",
       "      <td>0.064731</td>\n",
       "      <td>0.053492</td>\n",
       "      <td>-0.086663</td>\n",
       "      <td>0.042040</td>\n",
       "      <td>...</td>\n",
       "      <td>-0.039931</td>\n",
       "      <td>-0.055881</td>\n",
       "      <td>0.070485</td>\n",
       "      <td>0.079482</td>\n",
       "      <td>-0.065805</td>\n",
       "      <td>0.010450</td>\n",
       "      <td>0.083477</td>\n",
       "      <td>-0.020643</td>\n",
       "      <td>0.026802</td>\n",
       "      <td>0.023278</td>\n",
       "    </tr>\n",
       "    <tr>\n",
       "      <th>2</th>\n",
       "      <td>-0.103944</td>\n",
       "      <td>0.160174</td>\n",
       "      <td>0.006674</td>\n",
       "      <td>0.032914</td>\n",
       "      <td>0.023432</td>\n",
       "      <td>0.015533</td>\n",
       "      <td>0.124695</td>\n",
       "      <td>-0.012912</td>\n",
       "      <td>-0.071057</td>\n",
       "      <td>0.007715</td>\n",
       "      <td>...</td>\n",
       "      <td>-0.048390</td>\n",
       "      <td>-0.047802</td>\n",
       "      <td>-0.056081</td>\n",
       "      <td>0.034009</td>\n",
       "      <td>0.005964</td>\n",
       "      <td>0.015365</td>\n",
       "      <td>0.026713</td>\n",
       "      <td>-0.099851</td>\n",
       "      <td>-0.039444</td>\n",
       "      <td>0.019750</td>\n",
       "    </tr>\n",
       "    <tr>\n",
       "      <th>3</th>\n",
       "      <td>-0.068707</td>\n",
       "      <td>0.033529</td>\n",
       "      <td>0.007046</td>\n",
       "      <td>0.083010</td>\n",
       "      <td>0.072068</td>\n",
       "      <td>0.020052</td>\n",
       "      <td>0.061295</td>\n",
       "      <td>0.038851</td>\n",
       "      <td>0.006501</td>\n",
       "      <td>0.060401</td>\n",
       "      <td>...</td>\n",
       "      <td>-0.073263</td>\n",
       "      <td>-0.021329</td>\n",
       "      <td>-0.063976</td>\n",
       "      <td>0.042687</td>\n",
       "      <td>0.028866</td>\n",
       "      <td>0.015143</td>\n",
       "      <td>-0.025140</td>\n",
       "      <td>-0.103199</td>\n",
       "      <td>-0.039904</td>\n",
       "      <td>0.047723</td>\n",
       "    </tr>\n",
       "    <tr>\n",
       "      <th>4</th>\n",
       "      <td>-0.069275</td>\n",
       "      <td>0.071025</td>\n",
       "      <td>0.019378</td>\n",
       "      <td>0.039093</td>\n",
       "      <td>0.075728</td>\n",
       "      <td>-0.033218</td>\n",
       "      <td>0.122828</td>\n",
       "      <td>-0.019662</td>\n",
       "      <td>-0.064920</td>\n",
       "      <td>-0.040290</td>\n",
       "      <td>...</td>\n",
       "      <td>-0.048714</td>\n",
       "      <td>-0.067688</td>\n",
       "      <td>-0.049945</td>\n",
       "      <td>-0.005560</td>\n",
       "      <td>-0.028457</td>\n",
       "      <td>0.019639</td>\n",
       "      <td>-0.037464</td>\n",
       "      <td>-0.115767</td>\n",
       "      <td>-0.017989</td>\n",
       "      <td>0.000391</td>\n",
       "    </tr>\n",
       "  </tbody>\n",
       "</table>\n",
       "<p>5 rows × 384 columns</p>\n",
       "</div>"
      ],
      "text/plain": [
       "        0         1         2         3         4         5         6    \\\n",
       "0 -0.074143  0.064050 -0.009264  0.046263 -0.027863 -0.048036  0.064230   \n",
       "1 -0.053667  0.086153  0.008184 -0.027359  0.064028 -0.062513  0.064731   \n",
       "2 -0.103944  0.160174  0.006674  0.032914  0.023432  0.015533  0.124695   \n",
       "3 -0.068707  0.033529  0.007046  0.083010  0.072068  0.020052  0.061295   \n",
       "4 -0.069275  0.071025  0.019378  0.039093  0.075728 -0.033218  0.122828   \n",
       "\n",
       "        7         8         9    ...       374       375       376       377  \\\n",
       "0 -0.072758 -0.083279 -0.023699  ... -0.032186 -0.009203 -0.015632  0.013018   \n",
       "1  0.053492 -0.086663  0.042040  ... -0.039931 -0.055881  0.070485  0.079482   \n",
       "2 -0.012912 -0.071057  0.007715  ... -0.048390 -0.047802 -0.056081  0.034009   \n",
       "3  0.038851  0.006501  0.060401  ... -0.073263 -0.021329 -0.063976  0.042687   \n",
       "4 -0.019662 -0.064920 -0.040290  ... -0.048714 -0.067688 -0.049945 -0.005560   \n",
       "\n",
       "        378       379       380       381       382       383  \n",
       "0  0.038265  0.057547  0.033841 -0.040459 -0.005354 -0.016443  \n",
       "1 -0.065805  0.010450  0.083477 -0.020643  0.026802  0.023278  \n",
       "2  0.005964  0.015365  0.026713 -0.099851 -0.039444  0.019750  \n",
       "3  0.028866  0.015143 -0.025140 -0.103199 -0.039904  0.047723  \n",
       "4 -0.028457  0.019639 -0.037464 -0.115767 -0.017989  0.000391  \n",
       "\n",
       "[5 rows x 384 columns]"
      ]
     },
     "execution_count": 50,
     "metadata": {},
     "output_type": "execute_result"
    }
   ],
   "source": [
    "# We need to reformat the embeddings to be compatible with a pandas DataFrame\n",
    "# If we do this as below, we get a dataframe with 383 columns, one for each embedding dimension\n",
    "# If we want to save this as a CSV, we need to convert it to a list\n",
    "item_embeddings = {item_id: embedding.cpu().numpy().tolist() for item_id, embedding in item_embeddings.items()}\n",
    "embeddings_df = pd.DataFrame.from_dict(item_embeddings, orient='index')\n",
    "embeddings_df.rename(columns={'index': 'item_id'}, inplace=True)\n",
    "#embeddings_df.set_index(\"item_id\", inplace=True)\n",
    "embeddings_df.head()"
   ]
  },
  {
   "cell_type": "markdown",
   "id": "c8eedf17",
   "metadata": {},
   "source": [
    "That's not bad, but maybe it would be easier to just store the actual list in one column? Let's try it this way though first. "
   ]
  },
  {
   "cell_type": "code",
   "execution_count": 52,
   "id": "4059c41e",
   "metadata": {},
   "outputs": [
    {
     "name": "stdout",
     "output_type": "stream",
     "text": [
      "Embedding for item 0: [-0.07414272427558899, 0.0640496164560318, -0.009264148771762848, 0.046263132244348526, -0.02786252275109291, -0.04803597182035446, 0.0642300546169281, -0.07275786250829697, -0.08327941596508026, -0.023699209094047546, 0.03779444098472595, -0.09349503368139267, 0.025647640228271484, -0.06282330304384232, 0.060157909989356995, 0.07073774188756943, 0.09871508926153183, -0.014032882638275623, 0.02206476591527462, -0.03884509950876236, -0.07476118206977844, -0.055835600942373276, -0.0180149357765913, 0.18124601244926453, -0.045053865760564804, -0.03811192139983177, 0.037333983927965164, 0.06293008476495743, -0.08115700632333755, -0.03456141799688339, -0.08519710600376129, 0.03227163851261139, 0.07083224505186081, 0.005300506949424744, -0.04627120867371559, 0.06457676738500595, 0.06460494548082352, -0.04344898462295532, -0.0004011116689071059, 0.08597902953624725, -0.04849208518862724, -0.01107722707092762, -0.05858822166919708, -0.015387576073408127, 0.05983293429017067, 0.005677560344338417, 0.07342144101858139, 0.014655749313533306, -0.08146148175001144, 0.06976448744535446, 0.04693581536412239, 0.08503401279449463, -0.04451005533337593, 0.04552675783634186, -0.0025567077100276947, 0.07269646227359772, -0.0417177677154541, -0.027896707877516747, 0.0328831784427166, 0.03000526688992977, 0.009291042573750019, 0.017189187929034233, -0.09070154279470444, 0.009791150689125061, 0.00020605543977580965, -0.10098270326852798, -0.02383267879486084, 0.05163101851940155, -0.0421382375061512, -0.07676276564598083, 0.06785847246646881, -0.046836238354444504, 0.009802875109016895, 0.06162054091691971, 0.0034669896122068167, 0.012807312421500683, 0.046217091381549835, -0.08646152168512344, 0.09630868583917618, 0.008737170137465, -0.04016825556755066, -0.1148616150021553, 0.023121923208236694, 0.009289653040468693, -0.034894537180662155, 0.011413844302296638, -0.033670324832201004, -0.07909775525331497, -0.030044805258512497, -0.017645535990595818, -0.027645742520689964, -0.023211263120174408, -0.1362188309431076, -0.0016639516688883305, -0.0851232185959816, 0.0639326274394989, -0.010630087926983833, -0.006304922979325056, 0.038269683718681335, 0.1260826587677002, -0.023882633075118065, -0.005275942385196686, 0.09417219460010529, 0.030396299436688423, -0.05658115819096565, -0.14171567559242249, 0.12435915321111679, 0.009322305209934711, 0.04268014058470726, 0.014345178380608559, 0.004905592184513807, -0.07972866296768188, 0.08139657229185104, -0.011098316870629787, 0.006053021177649498, 0.004035804886370897, 0.04378480091691017, -0.0008977788966149092, -0.01118441205471754, -0.0016080684727057815, -0.016963409259915352, 0.05111953243613243, 0.022342460229992867, -0.020732412114739418, -0.030780944973230362, -0.004372907802462578, 0.02727358043193817, -7.925330768392677e-34, 0.10954365134239197, -0.004104552790522575, 0.03978272154927254, 0.04101571813225746, 0.04777291417121887, 0.020777421072125435, 0.025354523211717606, -0.06899890303611755, -0.037163399159908295, 0.008634808473289013, 0.053429629653692245, -0.09666243940591812, -0.07256273180246353, -0.0381150022149086, 0.0671532154083252, -0.0011894945055246353, 0.009072432294487953, 0.00579289672896266, -0.06213636323809624, 0.04548320174217224, -0.010572034865617752, 0.05707116052508354, -0.05111042037606239, 0.04685227572917938, -0.018994970247149467, 0.04796822369098663, 0.06260421872138977, -0.06662918627262115, -0.05789664760231972, 0.06367674469947815, 0.12778672575950623, -0.0036122300662100315, 0.041021689772605896, -0.006136047188192606, -0.05574070289731026, -0.05984307825565338, -0.025232592597603798, -0.049640148878097534, -0.020109066739678383, -0.042795952409505844, 0.010989885777235031, -0.008255375549197197, 0.04414205625653267, 0.023782098665833473, -0.06466564536094666, 0.03193240612745285, 0.0664963647723198, 0.06222103536128998, 0.02923179604113102, 0.06353489309549332, -0.004120613448321819, 0.015852877870202065, -0.05607669800519943, 0.0011434863554313779, -0.004721125587821007, 0.030750760808587074, -0.023427855223417282, -0.02502022124826908, 0.06787742674350739, -0.01562247984111309, 0.04037783294916153, 0.040984638035297394, -0.040963008999824524, -0.013842891901731491, 0.01742479018867016, -0.04697239771485329, 0.038593847304582596, 0.0051545435562729836, -0.013718977570533752, -0.031690359115600586, -0.006511276587843895, 0.05336727201938629, 0.021264400333166122, -0.04232126101851463, -0.013524865731596947, 0.007993661798536777, 0.10588182508945465, -0.03722880780696869, 0.005478787701576948, -0.021884366869926453, -0.017112024128437042, 0.007103516720235348, 0.11917046457529068, 0.06264178454875946, -0.02149176597595215, -0.06612051278352737, 0.04591068625450134, 0.04667528346180916, -0.015061712823808193, 0.006683120504021645, -0.015356682240962982, -0.006949156057089567, 0.0709703341126442, -0.13687904179096222, -0.024846471846103668, 5.0465235218872975e-34, 0.11217109113931656, -0.024370186030864716, 0.030494213104248047, -0.03897842392325401, 0.05577465891838074, 0.016429925337433815, -0.05452407896518707, 0.013707700185477734, 0.008467081934213638, 0.012365101836621761, 0.0786091610789299, -0.05169786512851715, 0.019161764532327652, 0.002643152140080929, 0.08517749607563019, -0.008411441929638386, 0.03873610496520996, 0.021381154656410217, -0.04189382866024971, 0.023816876113414764, -0.03992530703544617, 0.03302258998155594, -0.018170664086937904, -0.025986624881625175, -0.0547541081905365, -0.02018364705145359, -0.0022375539410859346, 0.028538251295685768, -0.04096059128642082, 0.07864253222942352, -0.044889502227306366, -0.025328533723950386, 0.003106348915025592, 0.15503181517124176, 0.009296039119362831, 0.040455352514982224, 0.001988292671740055, 0.008697723969817162, -0.06970345973968506, 0.023398425430059433, 0.03297814726829529, -0.094098761677742, -0.0034909837413579226, 0.06174477934837341, 0.004078013822436333, -0.08629385381937027, -0.07653827965259552, -0.0020125089213252068, 0.0032343789935112, -0.036253441125154495, -0.09446166455745697, -0.014603019692003727, -0.05148870497941971, -0.060000237077474594, -0.02641564980149269, -0.0326034314930439, -0.10543707758188248, 0.02394898608326912, -0.05986204743385315, -0.00010787528299260885, -0.002395442221313715, 0.004033036530017853, 0.00665640365332365, 0.03850629925727844, 0.009423050098121166, 0.038053959608078, -0.02422749251127243, -0.10058366507291794, -0.07529330998659134, -0.012582534924149513, 0.0022947194520384073, -0.051028285175561905, -0.017898786813020706, 0.08750693500041962, 0.00813679676502943, -0.08140277862548828, -0.015968961641192436, 0.07126761972904205, 0.011925566010177135, 0.06997270882129669, -0.03364197164773941, -0.03149823844432831, -0.03961806744337082, 0.08250322937965393, 0.04624239727854729, -0.02699880674481392, -0.11362085491418839, 0.07704056054353714, 0.002786188619211316, -0.03346874937415123, -0.06900211423635483, 0.031243344768881798, 0.010110420174896717, -0.015485509298741817, 0.03209821134805679, -1.45178287169756e-08, 0.004969378001987934, 0.015768224373459816, 0.041145097464323044, 0.0017131880158558488, -0.001524916384369135, 0.016102703288197517, -0.04275297373533249, -0.060915958136320114, 0.04204503446817398, 0.04260803759098053, -0.004346884787082672, 0.0910247266292572, 0.05103585869073868, 0.026378478854894638, -0.05320108309388161, -0.021308762952685356, 0.019612843170762062, 0.004737445618957281, -0.035564783960580826, -0.0480068176984787, -0.055506013333797455, 0.028196895495057106, 0.034757696092128754, -0.003290267428383231, 0.005169551353901625, 0.039399322122335434, -0.019373759627342224, 0.08777317404747009, 0.04202211648225784, 0.05572859197854996, 0.09033221751451492, 0.021801790222525597, 0.026108048856258392, -0.011172774247825146, -0.05090264603495598, -0.06757277995347977, -0.010243798606097698, 0.08752267807722092, -0.0530986525118351, 0.019469434395432472, 0.0312134250998497, -0.07131296396255493, 0.038867127150297165, -0.00044951942982152104, 0.06386721879243851, 0.01899629458785057, 0.035681236535310745, -0.03841886669397354, 0.04173944145441055, 0.029493628069758415, -0.07546346634626389, -0.043280910700559616, 0.08236633986234665, 0.037595681846141815, -0.032186344265937805, -0.009202953428030014, -0.01563199609518051, 0.013017671182751656, 0.03826522082090378, 0.057547491043806076, 0.03384074568748474, -0.040459103882312775, -0.005353574175387621, -0.016443269327282906]\n"
     ]
    }
   ],
   "source": [
    "embedding_0 = list(embeddings_df.loc[0])\n",
    "print(f\"Embedding for item 0: {embedding_0}\")"
   ]
  },
  {
   "cell_type": "markdown",
   "id": "04aeb782",
   "metadata": {},
   "source": [
    "I think that's ok for now. Let's save it so we can use it later. "
   ]
  },
  {
   "cell_type": "code",
   "execution_count": 54,
   "id": "cef8896e",
   "metadata": {},
   "outputs": [],
   "source": [
    "embeddings_df.to_csv('../data/item_embeddings.csv', index=False)"
   ]
  }
 ],
 "metadata": {
  "kernelspec": {
   "display_name": "pinlight",
   "language": "python",
   "name": "python3"
  },
  "language_info": {
   "codemirror_mode": {
    "name": "ipython",
    "version": 3
   },
   "file_extension": ".py",
   "mimetype": "text/x-python",
   "name": "python",
   "nbconvert_exporter": "python",
   "pygments_lexer": "ipython3",
   "version": "3.12.11"
  }
 },
 "nbformat": 4,
 "nbformat_minor": 5
}
